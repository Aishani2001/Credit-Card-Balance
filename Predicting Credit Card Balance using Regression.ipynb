{
 "cells": [
  {
   "cell_type": "markdown",
   "metadata": {},
   "source": [
    "We are going to predict credit card balance using regression techniques. We analyse data of 400 card holders on the basis of 11 variables and predict their credit card balance. This can be used to analyse what customers are at a risk of being credit card defaulters and what the consumer behaviour of potential customers will look like. We use multivariable regression. This determines the degree to which dependent and independent variables are related to eachother linearly.\n",
    "\n",
    "Aim : To see what all factors influence the credit card balance of credit card holders and predict the average balance \n",
    "of an individual.\n",
    "Factors affecting:\n",
    "ID,\n",
    "Income,\n",
    "Limit,\n",
    "Rating - Measurement of a person or a business to repay any financial obligation based on past repaymentand credit balance,\n",
    "Age - Age in years,\n",
    "Education - number of years of education,\n",
    "Gender - Male or Female,\n",
    "Student - Yes or No,\n",
    "Married - Yes or No,\n",
    "Ethnicity - African American, Asian or Caucasian,\n",
    "Balance - Average credit card balance in $\n",
    "\n"
   ]
  },
  {
   "cell_type": "markdown",
   "metadata": {},
   "source": [
    "\n",
    "Credit card balance is the amount that you owe on the credit card. Balance increases when purchases are made and decreases\n",
    "when payments are made. Credit card Balance refers to the average monthly balance across all of the cards owned by a cardholder. This assumption was made as a result of the Cards variable which refers to the number of credit cards owned by a person and has only one associated Balance figure."
   ]
  },
  {
   "cell_type": "code",
   "execution_count": 1,
   "metadata": {},
   "outputs": [],
   "source": [
    "import numpy as np\n",
    "import seaborn as sns\n",
    "import pandas as pd\n",
    "import matplotlib.pyplot as plt\n",
    "import statsmodels.api as sm\n",
    "import statsmodels.formula.api as smf"
   ]
  },
  {
   "cell_type": "code",
   "execution_count": 2,
   "metadata": {},
   "outputs": [],
   "source": [
    "%matplotlib inline\n"
   ]
  },
  {
   "cell_type": "code",
   "execution_count": 3,
   "metadata": {},
   "outputs": [],
   "source": [
    "df = pd.read_csv('Credit.csv', index_col=0)"
   ]
  },
  {
   "cell_type": "code",
   "execution_count": 4,
   "metadata": {},
   "outputs": [
    {
     "data": {
      "text/html": [
       "<div>\n",
       "<style scoped>\n",
       "    .dataframe tbody tr th:only-of-type {\n",
       "        vertical-align: middle;\n",
       "    }\n",
       "\n",
       "    .dataframe tbody tr th {\n",
       "        vertical-align: top;\n",
       "    }\n",
       "\n",
       "    .dataframe thead th {\n",
       "        text-align: right;\n",
       "    }\n",
       "</style>\n",
       "<table border=\"1\" class=\"dataframe\">\n",
       "  <thead>\n",
       "    <tr style=\"text-align: right;\">\n",
       "      <th></th>\n",
       "      <th>Income</th>\n",
       "      <th>Limit</th>\n",
       "      <th>Rating</th>\n",
       "      <th>Cards</th>\n",
       "      <th>Age</th>\n",
       "      <th>Education</th>\n",
       "      <th>Gender</th>\n",
       "      <th>Student</th>\n",
       "      <th>Married</th>\n",
       "      <th>Ethnicity</th>\n",
       "      <th>Balance</th>\n",
       "    </tr>\n",
       "  </thead>\n",
       "  <tbody>\n",
       "    <tr>\n",
       "      <th>1</th>\n",
       "      <td>14.891</td>\n",
       "      <td>3606</td>\n",
       "      <td>283</td>\n",
       "      <td>2</td>\n",
       "      <td>34</td>\n",
       "      <td>11</td>\n",
       "      <td>Male</td>\n",
       "      <td>No</td>\n",
       "      <td>Yes</td>\n",
       "      <td>Caucasian</td>\n",
       "      <td>333</td>\n",
       "    </tr>\n",
       "    <tr>\n",
       "      <th>2</th>\n",
       "      <td>106.025</td>\n",
       "      <td>6645</td>\n",
       "      <td>483</td>\n",
       "      <td>3</td>\n",
       "      <td>82</td>\n",
       "      <td>15</td>\n",
       "      <td>Female</td>\n",
       "      <td>Yes</td>\n",
       "      <td>Yes</td>\n",
       "      <td>Asian</td>\n",
       "      <td>903</td>\n",
       "    </tr>\n",
       "    <tr>\n",
       "      <th>3</th>\n",
       "      <td>104.593</td>\n",
       "      <td>7075</td>\n",
       "      <td>514</td>\n",
       "      <td>4</td>\n",
       "      <td>71</td>\n",
       "      <td>11</td>\n",
       "      <td>Male</td>\n",
       "      <td>No</td>\n",
       "      <td>No</td>\n",
       "      <td>Asian</td>\n",
       "      <td>580</td>\n",
       "    </tr>\n",
       "    <tr>\n",
       "      <th>4</th>\n",
       "      <td>148.924</td>\n",
       "      <td>9504</td>\n",
       "      <td>681</td>\n",
       "      <td>3</td>\n",
       "      <td>36</td>\n",
       "      <td>11</td>\n",
       "      <td>Female</td>\n",
       "      <td>No</td>\n",
       "      <td>No</td>\n",
       "      <td>Asian</td>\n",
       "      <td>964</td>\n",
       "    </tr>\n",
       "    <tr>\n",
       "      <th>5</th>\n",
       "      <td>55.882</td>\n",
       "      <td>4897</td>\n",
       "      <td>357</td>\n",
       "      <td>2</td>\n",
       "      <td>68</td>\n",
       "      <td>16</td>\n",
       "      <td>Male</td>\n",
       "      <td>No</td>\n",
       "      <td>Yes</td>\n",
       "      <td>Caucasian</td>\n",
       "      <td>331</td>\n",
       "    </tr>\n",
       "    <tr>\n",
       "      <th>...</th>\n",
       "      <td>...</td>\n",
       "      <td>...</td>\n",
       "      <td>...</td>\n",
       "      <td>...</td>\n",
       "      <td>...</td>\n",
       "      <td>...</td>\n",
       "      <td>...</td>\n",
       "      <td>...</td>\n",
       "      <td>...</td>\n",
       "      <td>...</td>\n",
       "      <td>...</td>\n",
       "    </tr>\n",
       "    <tr>\n",
       "      <th>396</th>\n",
       "      <td>12.096</td>\n",
       "      <td>4100</td>\n",
       "      <td>307</td>\n",
       "      <td>3</td>\n",
       "      <td>32</td>\n",
       "      <td>13</td>\n",
       "      <td>Male</td>\n",
       "      <td>No</td>\n",
       "      <td>Yes</td>\n",
       "      <td>Caucasian</td>\n",
       "      <td>560</td>\n",
       "    </tr>\n",
       "    <tr>\n",
       "      <th>397</th>\n",
       "      <td>13.364</td>\n",
       "      <td>3838</td>\n",
       "      <td>296</td>\n",
       "      <td>5</td>\n",
       "      <td>65</td>\n",
       "      <td>17</td>\n",
       "      <td>Male</td>\n",
       "      <td>No</td>\n",
       "      <td>No</td>\n",
       "      <td>African American</td>\n",
       "      <td>480</td>\n",
       "    </tr>\n",
       "    <tr>\n",
       "      <th>398</th>\n",
       "      <td>57.872</td>\n",
       "      <td>4171</td>\n",
       "      <td>321</td>\n",
       "      <td>5</td>\n",
       "      <td>67</td>\n",
       "      <td>12</td>\n",
       "      <td>Female</td>\n",
       "      <td>No</td>\n",
       "      <td>Yes</td>\n",
       "      <td>Caucasian</td>\n",
       "      <td>138</td>\n",
       "    </tr>\n",
       "    <tr>\n",
       "      <th>399</th>\n",
       "      <td>37.728</td>\n",
       "      <td>2525</td>\n",
       "      <td>192</td>\n",
       "      <td>1</td>\n",
       "      <td>44</td>\n",
       "      <td>13</td>\n",
       "      <td>Male</td>\n",
       "      <td>No</td>\n",
       "      <td>Yes</td>\n",
       "      <td>Caucasian</td>\n",
       "      <td>0</td>\n",
       "    </tr>\n",
       "    <tr>\n",
       "      <th>400</th>\n",
       "      <td>18.701</td>\n",
       "      <td>5524</td>\n",
       "      <td>415</td>\n",
       "      <td>5</td>\n",
       "      <td>64</td>\n",
       "      <td>7</td>\n",
       "      <td>Female</td>\n",
       "      <td>No</td>\n",
       "      <td>No</td>\n",
       "      <td>Asian</td>\n",
       "      <td>966</td>\n",
       "    </tr>\n",
       "  </tbody>\n",
       "</table>\n",
       "<p>400 rows × 11 columns</p>\n",
       "</div>"
      ],
      "text/plain": [
       "      Income  Limit  Rating  Cards  Age  Education  Gender Student Married  \\\n",
       "1     14.891   3606     283      2   34         11    Male      No     Yes   \n",
       "2    106.025   6645     483      3   82         15  Female     Yes     Yes   \n",
       "3    104.593   7075     514      4   71         11    Male      No      No   \n",
       "4    148.924   9504     681      3   36         11  Female      No      No   \n",
       "5     55.882   4897     357      2   68         16    Male      No     Yes   \n",
       "..       ...    ...     ...    ...  ...        ...     ...     ...     ...   \n",
       "396   12.096   4100     307      3   32         13    Male      No     Yes   \n",
       "397   13.364   3838     296      5   65         17    Male      No      No   \n",
       "398   57.872   4171     321      5   67         12  Female      No     Yes   \n",
       "399   37.728   2525     192      1   44         13    Male      No     Yes   \n",
       "400   18.701   5524     415      5   64          7  Female      No      No   \n",
       "\n",
       "            Ethnicity  Balance  \n",
       "1           Caucasian      333  \n",
       "2               Asian      903  \n",
       "3               Asian      580  \n",
       "4               Asian      964  \n",
       "5           Caucasian      331  \n",
       "..                ...      ...  \n",
       "396         Caucasian      560  \n",
       "397  African American      480  \n",
       "398         Caucasian      138  \n",
       "399         Caucasian        0  \n",
       "400             Asian      966  \n",
       "\n",
       "[400 rows x 11 columns]"
      ]
     },
     "execution_count": 4,
     "metadata": {},
     "output_type": "execute_result"
    }
   ],
   "source": [
    "df"
   ]
  },
  {
   "cell_type": "markdown",
   "metadata": {},
   "source": [
    "Categorical variables include gender, student, married, ethnicity. We have to convert them to appropriate data type.\n",
    "These look like strings but they are represented by an array of integers. astype converts pandas data to a particular data type."
   ]
  },
  {
   "cell_type": "code",
   "execution_count": 5,
   "metadata": {},
   "outputs": [],
   "source": [
    "df.Gender = df.Gender.astype('category')\n",
    "df.Student = df.Student.astype('category')\n",
    "df.Married = df.Married.astype('category')\n",
    "df.Ethnicity = df.Ethnicity.astype('category')"
   ]
  },
  {
   "cell_type": "markdown",
   "metadata": {},
   "source": [
    "## EXPLORATORY DATA ANALYSIS"
   ]
  },
  {
   "cell_type": "code",
   "execution_count": 6,
   "metadata": {},
   "outputs": [
    {
     "data": {
      "text/html": [
       "<div>\n",
       "<style scoped>\n",
       "    .dataframe tbody tr th:only-of-type {\n",
       "        vertical-align: middle;\n",
       "    }\n",
       "\n",
       "    .dataframe tbody tr th {\n",
       "        vertical-align: top;\n",
       "    }\n",
       "\n",
       "    .dataframe thead th {\n",
       "        text-align: right;\n",
       "    }\n",
       "</style>\n",
       "<table border=\"1\" class=\"dataframe\">\n",
       "  <thead>\n",
       "    <tr style=\"text-align: right;\">\n",
       "      <th></th>\n",
       "      <th>Income</th>\n",
       "      <th>Limit</th>\n",
       "      <th>Rating</th>\n",
       "      <th>Cards</th>\n",
       "      <th>Age</th>\n",
       "      <th>Education</th>\n",
       "      <th>Balance</th>\n",
       "    </tr>\n",
       "  </thead>\n",
       "  <tbody>\n",
       "    <tr>\n",
       "      <th>count</th>\n",
       "      <td>400.000000</td>\n",
       "      <td>400.000000</td>\n",
       "      <td>400.000000</td>\n",
       "      <td>400.000000</td>\n",
       "      <td>400.000000</td>\n",
       "      <td>400.000000</td>\n",
       "      <td>400.000000</td>\n",
       "    </tr>\n",
       "    <tr>\n",
       "      <th>mean</th>\n",
       "      <td>45.218885</td>\n",
       "      <td>4735.600000</td>\n",
       "      <td>354.940000</td>\n",
       "      <td>2.957500</td>\n",
       "      <td>55.667500</td>\n",
       "      <td>13.450000</td>\n",
       "      <td>520.015000</td>\n",
       "    </tr>\n",
       "    <tr>\n",
       "      <th>std</th>\n",
       "      <td>35.244273</td>\n",
       "      <td>2308.198848</td>\n",
       "      <td>154.724143</td>\n",
       "      <td>1.371275</td>\n",
       "      <td>17.249807</td>\n",
       "      <td>3.125207</td>\n",
       "      <td>459.758877</td>\n",
       "    </tr>\n",
       "    <tr>\n",
       "      <th>min</th>\n",
       "      <td>10.354000</td>\n",
       "      <td>855.000000</td>\n",
       "      <td>93.000000</td>\n",
       "      <td>1.000000</td>\n",
       "      <td>23.000000</td>\n",
       "      <td>5.000000</td>\n",
       "      <td>0.000000</td>\n",
       "    </tr>\n",
       "    <tr>\n",
       "      <th>25%</th>\n",
       "      <td>21.007250</td>\n",
       "      <td>3088.000000</td>\n",
       "      <td>247.250000</td>\n",
       "      <td>2.000000</td>\n",
       "      <td>41.750000</td>\n",
       "      <td>11.000000</td>\n",
       "      <td>68.750000</td>\n",
       "    </tr>\n",
       "    <tr>\n",
       "      <th>50%</th>\n",
       "      <td>33.115500</td>\n",
       "      <td>4622.500000</td>\n",
       "      <td>344.000000</td>\n",
       "      <td>3.000000</td>\n",
       "      <td>56.000000</td>\n",
       "      <td>14.000000</td>\n",
       "      <td>459.500000</td>\n",
       "    </tr>\n",
       "    <tr>\n",
       "      <th>75%</th>\n",
       "      <td>57.470750</td>\n",
       "      <td>5872.750000</td>\n",
       "      <td>437.250000</td>\n",
       "      <td>4.000000</td>\n",
       "      <td>70.000000</td>\n",
       "      <td>16.000000</td>\n",
       "      <td>863.000000</td>\n",
       "    </tr>\n",
       "    <tr>\n",
       "      <th>max</th>\n",
       "      <td>186.634000</td>\n",
       "      <td>13913.000000</td>\n",
       "      <td>982.000000</td>\n",
       "      <td>9.000000</td>\n",
       "      <td>98.000000</td>\n",
       "      <td>20.000000</td>\n",
       "      <td>1999.000000</td>\n",
       "    </tr>\n",
       "  </tbody>\n",
       "</table>\n",
       "</div>"
      ],
      "text/plain": [
       "           Income         Limit      Rating       Cards         Age  \\\n",
       "count  400.000000    400.000000  400.000000  400.000000  400.000000   \n",
       "mean    45.218885   4735.600000  354.940000    2.957500   55.667500   \n",
       "std     35.244273   2308.198848  154.724143    1.371275   17.249807   \n",
       "min     10.354000    855.000000   93.000000    1.000000   23.000000   \n",
       "25%     21.007250   3088.000000  247.250000    2.000000   41.750000   \n",
       "50%     33.115500   4622.500000  344.000000    3.000000   56.000000   \n",
       "75%     57.470750   5872.750000  437.250000    4.000000   70.000000   \n",
       "max    186.634000  13913.000000  982.000000    9.000000   98.000000   \n",
       "\n",
       "        Education      Balance  \n",
       "count  400.000000   400.000000  \n",
       "mean    13.450000   520.015000  \n",
       "std      3.125207   459.758877  \n",
       "min      5.000000     0.000000  \n",
       "25%     11.000000    68.750000  \n",
       "50%     14.000000   459.500000  \n",
       "75%     16.000000   863.000000  \n",
       "max     20.000000  1999.000000  "
      ]
     },
     "execution_count": 6,
     "metadata": {},
     "output_type": "execute_result"
    }
   ],
   "source": [
    "df.describe()"
   ]
  },
  {
   "cell_type": "code",
   "execution_count": 7,
   "metadata": {},
   "outputs": [
    {
     "data": {
      "text/html": [
       "<div>\n",
       "<style scoped>\n",
       "    .dataframe tbody tr th:only-of-type {\n",
       "        vertical-align: middle;\n",
       "    }\n",
       "\n",
       "    .dataframe tbody tr th {\n",
       "        vertical-align: top;\n",
       "    }\n",
       "\n",
       "    .dataframe thead th {\n",
       "        text-align: right;\n",
       "    }\n",
       "</style>\n",
       "<table border=\"1\" class=\"dataframe\">\n",
       "  <thead>\n",
       "    <tr style=\"text-align: right;\">\n",
       "      <th></th>\n",
       "      <th>Income</th>\n",
       "      <th>Limit</th>\n",
       "      <th>Rating</th>\n",
       "      <th>Cards</th>\n",
       "      <th>Age</th>\n",
       "      <th>Education</th>\n",
       "      <th>Gender</th>\n",
       "      <th>Student</th>\n",
       "      <th>Married</th>\n",
       "      <th>Ethnicity</th>\n",
       "      <th>Balance</th>\n",
       "    </tr>\n",
       "  </thead>\n",
       "  <tbody>\n",
       "    <tr>\n",
       "      <th>1</th>\n",
       "      <td>14.891</td>\n",
       "      <td>3606</td>\n",
       "      <td>283</td>\n",
       "      <td>2</td>\n",
       "      <td>34</td>\n",
       "      <td>11</td>\n",
       "      <td>Male</td>\n",
       "      <td>No</td>\n",
       "      <td>Yes</td>\n",
       "      <td>Caucasian</td>\n",
       "      <td>333</td>\n",
       "    </tr>\n",
       "    <tr>\n",
       "      <th>2</th>\n",
       "      <td>106.025</td>\n",
       "      <td>6645</td>\n",
       "      <td>483</td>\n",
       "      <td>3</td>\n",
       "      <td>82</td>\n",
       "      <td>15</td>\n",
       "      <td>Female</td>\n",
       "      <td>Yes</td>\n",
       "      <td>Yes</td>\n",
       "      <td>Asian</td>\n",
       "      <td>903</td>\n",
       "    </tr>\n",
       "    <tr>\n",
       "      <th>3</th>\n",
       "      <td>104.593</td>\n",
       "      <td>7075</td>\n",
       "      <td>514</td>\n",
       "      <td>4</td>\n",
       "      <td>71</td>\n",
       "      <td>11</td>\n",
       "      <td>Male</td>\n",
       "      <td>No</td>\n",
       "      <td>No</td>\n",
       "      <td>Asian</td>\n",
       "      <td>580</td>\n",
       "    </tr>\n",
       "    <tr>\n",
       "      <th>4</th>\n",
       "      <td>148.924</td>\n",
       "      <td>9504</td>\n",
       "      <td>681</td>\n",
       "      <td>3</td>\n",
       "      <td>36</td>\n",
       "      <td>11</td>\n",
       "      <td>Female</td>\n",
       "      <td>No</td>\n",
       "      <td>No</td>\n",
       "      <td>Asian</td>\n",
       "      <td>964</td>\n",
       "    </tr>\n",
       "    <tr>\n",
       "      <th>5</th>\n",
       "      <td>55.882</td>\n",
       "      <td>4897</td>\n",
       "      <td>357</td>\n",
       "      <td>2</td>\n",
       "      <td>68</td>\n",
       "      <td>16</td>\n",
       "      <td>Male</td>\n",
       "      <td>No</td>\n",
       "      <td>Yes</td>\n",
       "      <td>Caucasian</td>\n",
       "      <td>331</td>\n",
       "    </tr>\n",
       "  </tbody>\n",
       "</table>\n",
       "</div>"
      ],
      "text/plain": [
       "    Income  Limit  Rating  Cards  Age  Education  Gender Student Married  \\\n",
       "1   14.891   3606     283      2   34         11    Male      No     Yes   \n",
       "2  106.025   6645     483      3   82         15  Female     Yes     Yes   \n",
       "3  104.593   7075     514      4   71         11    Male      No      No   \n",
       "4  148.924   9504     681      3   36         11  Female      No      No   \n",
       "5   55.882   4897     357      2   68         16    Male      No     Yes   \n",
       "\n",
       "   Ethnicity  Balance  \n",
       "1  Caucasian      333  \n",
       "2      Asian      903  \n",
       "3      Asian      580  \n",
       "4      Asian      964  \n",
       "5  Caucasian      331  "
      ]
     },
     "execution_count": 7,
     "metadata": {},
     "output_type": "execute_result"
    }
   ],
   "source": [
    "df.head()"
   ]
  },
  {
   "cell_type": "code",
   "execution_count": 8,
   "metadata": {},
   "outputs": [
    {
     "data": {
      "text/html": [
       "<div>\n",
       "<style scoped>\n",
       "    .dataframe tbody tr th:only-of-type {\n",
       "        vertical-align: middle;\n",
       "    }\n",
       "\n",
       "    .dataframe tbody tr th {\n",
       "        vertical-align: top;\n",
       "    }\n",
       "\n",
       "    .dataframe thead th {\n",
       "        text-align: right;\n",
       "    }\n",
       "</style>\n",
       "<table border=\"1\" class=\"dataframe\">\n",
       "  <thead>\n",
       "    <tr style=\"text-align: right;\">\n",
       "      <th></th>\n",
       "      <th>Gender</th>\n",
       "      <th>Student</th>\n",
       "      <th>Married</th>\n",
       "      <th>Ethnicity</th>\n",
       "    </tr>\n",
       "  </thead>\n",
       "  <tbody>\n",
       "    <tr>\n",
       "      <th>count</th>\n",
       "      <td>400</td>\n",
       "      <td>400</td>\n",
       "      <td>400</td>\n",
       "      <td>400</td>\n",
       "    </tr>\n",
       "    <tr>\n",
       "      <th>unique</th>\n",
       "      <td>2</td>\n",
       "      <td>2</td>\n",
       "      <td>2</td>\n",
       "      <td>3</td>\n",
       "    </tr>\n",
       "    <tr>\n",
       "      <th>top</th>\n",
       "      <td>Female</td>\n",
       "      <td>No</td>\n",
       "      <td>Yes</td>\n",
       "      <td>Caucasian</td>\n",
       "    </tr>\n",
       "    <tr>\n",
       "      <th>freq</th>\n",
       "      <td>207</td>\n",
       "      <td>360</td>\n",
       "      <td>245</td>\n",
       "      <td>199</td>\n",
       "    </tr>\n",
       "  </tbody>\n",
       "</table>\n",
       "</div>"
      ],
      "text/plain": [
       "        Gender Student Married  Ethnicity\n",
       "count      400     400     400        400\n",
       "unique       2       2       2          3\n",
       "top     Female      No     Yes  Caucasian\n",
       "freq       207     360     245        199"
      ]
     },
     "execution_count": 8,
     "metadata": {},
     "output_type": "execute_result"
    }
   ],
   "source": [
    " df.describe(include=['category']) #only checking for categorical variables"
   ]
  },
  {
   "cell_type": "code",
   "execution_count": 9,
   "metadata": {},
   "outputs": [
    {
     "data": {
      "text/plain": [
       "<matplotlib.axes._subplots.AxesSubplot at 0x20fc00c17c0>"
      ]
     },
     "execution_count": 9,
     "metadata": {},
     "output_type": "execute_result"
    },
    {
     "data": {
      "image/png": "[encoded data removed]",
      "text/plain": [
       "<Figure size 432x288 with 1 Axes>"
      ]
     },
     "metadata": {
      "needs_background": "light"
     },
     "output_type": "display_data"
    }
   ],
   "source": [
    "sns.histplot(df.Balance)"
   ]
  },
  {
   "cell_type": "markdown",
   "metadata": {},
   "source": [
    "We see that a large no. of credit cards have zero balance. If the average credit card balance is zero we can \n",
    "conclude that these cards are not in use. As a credit card company we may be interested in knowing the credit balance \n",
    "of our frequent users. So these zero balance credit cards may skew our results. So we make a copy of the balances which are > 0."
   ]
  },
  {
   "cell_type": "code",
   "execution_count": 10,
   "metadata": {},
   "outputs": [
    {
     "data": {
      "text/html": [
       "<div>\n",
       "<style scoped>\n",
       "    .dataframe tbody tr th:only-of-type {\n",
       "        vertical-align: middle;\n",
       "    }\n",
       "\n",
       "    .dataframe tbody tr th {\n",
       "        vertical-align: top;\n",
       "    }\n",
       "\n",
       "    .dataframe thead th {\n",
       "        text-align: right;\n",
       "    }\n",
       "</style>\n",
       "<table border=\"1\" class=\"dataframe\">\n",
       "  <thead>\n",
       "    <tr style=\"text-align: right;\">\n",
       "      <th></th>\n",
       "      <th>Income</th>\n",
       "      <th>Limit</th>\n",
       "      <th>Rating</th>\n",
       "      <th>Cards</th>\n",
       "      <th>Age</th>\n",
       "      <th>Education</th>\n",
       "      <th>Gender</th>\n",
       "      <th>Student</th>\n",
       "      <th>Married</th>\n",
       "      <th>Ethnicity</th>\n",
       "      <th>Balance</th>\n",
       "    </tr>\n",
       "  </thead>\n",
       "  <tbody>\n",
       "    <tr>\n",
       "      <th>1</th>\n",
       "      <td>14.891</td>\n",
       "      <td>3606</td>\n",
       "      <td>283</td>\n",
       "      <td>2</td>\n",
       "      <td>34</td>\n",
       "      <td>11</td>\n",
       "      <td>Male</td>\n",
       "      <td>No</td>\n",
       "      <td>Yes</td>\n",
       "      <td>Caucasian</td>\n",
       "      <td>333</td>\n",
       "    </tr>\n",
       "    <tr>\n",
       "      <th>2</th>\n",
       "      <td>106.025</td>\n",
       "      <td>6645</td>\n",
       "      <td>483</td>\n",
       "      <td>3</td>\n",
       "      <td>82</td>\n",
       "      <td>15</td>\n",
       "      <td>Female</td>\n",
       "      <td>Yes</td>\n",
       "      <td>Yes</td>\n",
       "      <td>Asian</td>\n",
       "      <td>903</td>\n",
       "    </tr>\n",
       "    <tr>\n",
       "      <th>3</th>\n",
       "      <td>104.593</td>\n",
       "      <td>7075</td>\n",
       "      <td>514</td>\n",
       "      <td>4</td>\n",
       "      <td>71</td>\n",
       "      <td>11</td>\n",
       "      <td>Male</td>\n",
       "      <td>No</td>\n",
       "      <td>No</td>\n",
       "      <td>Asian</td>\n",
       "      <td>580</td>\n",
       "    </tr>\n",
       "    <tr>\n",
       "      <th>4</th>\n",
       "      <td>148.924</td>\n",
       "      <td>9504</td>\n",
       "      <td>681</td>\n",
       "      <td>3</td>\n",
       "      <td>36</td>\n",
       "      <td>11</td>\n",
       "      <td>Female</td>\n",
       "      <td>No</td>\n",
       "      <td>No</td>\n",
       "      <td>Asian</td>\n",
       "      <td>964</td>\n",
       "    </tr>\n",
       "    <tr>\n",
       "      <th>5</th>\n",
       "      <td>55.882</td>\n",
       "      <td>4897</td>\n",
       "      <td>357</td>\n",
       "      <td>2</td>\n",
       "      <td>68</td>\n",
       "      <td>16</td>\n",
       "      <td>Male</td>\n",
       "      <td>No</td>\n",
       "      <td>Yes</td>\n",
       "      <td>Caucasian</td>\n",
       "      <td>331</td>\n",
       "    </tr>\n",
       "  </tbody>\n",
       "</table>\n",
       "</div>"
      ],
      "text/plain": [
       "    Income  Limit  Rating  Cards  Age  Education  Gender Student Married  \\\n",
       "1   14.891   3606     283      2   34         11    Male      No     Yes   \n",
       "2  106.025   6645     483      3   82         15  Female     Yes     Yes   \n",
       "3  104.593   7075     514      4   71         11    Male      No      No   \n",
       "4  148.924   9504     681      3   36         11  Female      No      No   \n",
       "5   55.882   4897     357      2   68         16    Male      No     Yes   \n",
       "\n",
       "   Ethnicity  Balance  \n",
       "1  Caucasian      333  \n",
       "2      Asian      903  \n",
       "3      Asian      580  \n",
       "4      Asian      964  \n",
       "5  Caucasian      331  "
      ]
     },
     "execution_count": 10,
     "metadata": {},
     "output_type": "execute_result"
    }
   ],
   "source": [
    "active_balance = df.loc[df['Balance']>0].copy()\n",
    "active_balance.head()"
   ]
  },
  {
   "cell_type": "code",
   "execution_count": 11,
   "metadata": {},
   "outputs": [
    {
     "data": {
      "text/html": [
       "<div>\n",
       "<style scoped>\n",
       "    .dataframe tbody tr th:only-of-type {\n",
       "        vertical-align: middle;\n",
       "    }\n",
       "\n",
       "    .dataframe tbody tr th {\n",
       "        vertical-align: top;\n",
       "    }\n",
       "\n",
       "    .dataframe thead th {\n",
       "        text-align: right;\n",
       "    }\n",
       "</style>\n",
       "<table border=\"1\" class=\"dataframe\">\n",
       "  <thead>\n",
       "    <tr style=\"text-align: right;\">\n",
       "      <th></th>\n",
       "      <th>Income</th>\n",
       "      <th>Limit</th>\n",
       "      <th>Rating</th>\n",
       "      <th>Cards</th>\n",
       "      <th>Age</th>\n",
       "      <th>Education</th>\n",
       "      <th>Balance</th>\n",
       "    </tr>\n",
       "  </thead>\n",
       "  <tbody>\n",
       "    <tr>\n",
       "      <th>count</th>\n",
       "      <td>310.000000</td>\n",
       "      <td>310.000000</td>\n",
       "      <td>310.000000</td>\n",
       "      <td>310.000000</td>\n",
       "      <td>310.000000</td>\n",
       "      <td>310.000000</td>\n",
       "      <td>310.000000</td>\n",
       "    </tr>\n",
       "    <tr>\n",
       "      <th>mean</th>\n",
       "      <td>49.978810</td>\n",
       "      <td>5485.467742</td>\n",
       "      <td>405.051613</td>\n",
       "      <td>2.996774</td>\n",
       "      <td>55.606452</td>\n",
       "      <td>13.425806</td>\n",
       "      <td>670.987097</td>\n",
       "    </tr>\n",
       "    <tr>\n",
       "      <th>std</th>\n",
       "      <td>37.881628</td>\n",
       "      <td>2052.451743</td>\n",
       "      <td>137.967389</td>\n",
       "      <td>1.426740</td>\n",
       "      <td>17.341794</td>\n",
       "      <td>3.208904</td>\n",
       "      <td>413.904019</td>\n",
       "    </tr>\n",
       "    <tr>\n",
       "      <th>min</th>\n",
       "      <td>10.354000</td>\n",
       "      <td>1160.000000</td>\n",
       "      <td>126.000000</td>\n",
       "      <td>1.000000</td>\n",
       "      <td>23.000000</td>\n",
       "      <td>5.000000</td>\n",
       "      <td>5.000000</td>\n",
       "    </tr>\n",
       "    <tr>\n",
       "      <th>25%</th>\n",
       "      <td>23.150250</td>\n",
       "      <td>3976.250000</td>\n",
       "      <td>304.000000</td>\n",
       "      <td>2.000000</td>\n",
       "      <td>42.000000</td>\n",
       "      <td>11.000000</td>\n",
       "      <td>338.000000</td>\n",
       "    </tr>\n",
       "    <tr>\n",
       "      <th>50%</th>\n",
       "      <td>37.141000</td>\n",
       "      <td>5147.000000</td>\n",
       "      <td>380.000000</td>\n",
       "      <td>3.000000</td>\n",
       "      <td>55.500000</td>\n",
       "      <td>14.000000</td>\n",
       "      <td>637.500000</td>\n",
       "    </tr>\n",
       "    <tr>\n",
       "      <th>75%</th>\n",
       "      <td>63.740250</td>\n",
       "      <td>6453.250000</td>\n",
       "      <td>469.000000</td>\n",
       "      <td>4.000000</td>\n",
       "      <td>69.000000</td>\n",
       "      <td>16.000000</td>\n",
       "      <td>960.750000</td>\n",
       "    </tr>\n",
       "    <tr>\n",
       "      <th>max</th>\n",
       "      <td>186.634000</td>\n",
       "      <td>13913.000000</td>\n",
       "      <td>982.000000</td>\n",
       "      <td>9.000000</td>\n",
       "      <td>98.000000</td>\n",
       "      <td>20.000000</td>\n",
       "      <td>1999.000000</td>\n",
       "    </tr>\n",
       "  </tbody>\n",
       "</table>\n",
       "</div>"
      ],
      "text/plain": [
       "           Income         Limit      Rating       Cards         Age  \\\n",
       "count  310.000000    310.000000  310.000000  310.000000  310.000000   \n",
       "mean    49.978810   5485.467742  405.051613    2.996774   55.606452   \n",
       "std     37.881628   2052.451743  137.967389    1.426740   17.341794   \n",
       "min     10.354000   1160.000000  126.000000    1.000000   23.000000   \n",
       "25%     23.150250   3976.250000  304.000000    2.000000   42.000000   \n",
       "50%     37.141000   5147.000000  380.000000    3.000000   55.500000   \n",
       "75%     63.740250   6453.250000  469.000000    4.000000   69.000000   \n",
       "max    186.634000  13913.000000  982.000000    9.000000   98.000000   \n",
       "\n",
       "        Education      Balance  \n",
       "count  310.000000   310.000000  \n",
       "mean    13.425806   670.987097  \n",
       "std      3.208904   413.904019  \n",
       "min      5.000000     5.000000  \n",
       "25%     11.000000   338.000000  \n",
       "50%     14.000000   637.500000  \n",
       "75%     16.000000   960.750000  \n",
       "max     20.000000  1999.000000  "
      ]
     },
     "execution_count": 11,
     "metadata": {},
     "output_type": "execute_result"
    }
   ],
   "source": [
    "active_balance.describe()"
   ]
  },
  {
   "cell_type": "code",
   "execution_count": 12,
   "metadata": {},
   "outputs": [
    {
     "data": {
      "text/plain": [
       "<matplotlib.axes._subplots.AxesSubplot at 0x20fc01f7ac0>"
      ]
     },
     "execution_count": 12,
     "metadata": {},
     "output_type": "execute_result"
    },
    {
     "data": {
      "image/png": "[encoded data removed]",
      "text/plain": [
       "<Figure size 432x288 with 1 Axes>"
      ]
     },
     "metadata": {
      "needs_background": "light"
     },
     "output_type": "display_data"
    }
   ],
   "source": [
    "sns.histplot(active_balance.Balance)"
   ]
  },
  {
   "cell_type": "markdown",
   "metadata": {},
   "source": [
    "If we exclude the zero balances, we see that the plot represents a normal distribution. We will be using \n",
    "both the dataframes to fit models and compare results. We also will add a column depicting whether a user is \n",
    "an active credit card user or not (decided by whether their average credit card balance is > 0)"
   ]
  },
  {
   "cell_type": "code",
   "execution_count": 13,
   "metadata": {},
   "outputs": [],
   "source": [
    "df['Active'] = np.where(df['Balance'] > 0 , 'Yes' , 'No')"
   ]
  },
  {
   "cell_type": "code",
   "execution_count": 14,
   "metadata": {},
   "outputs": [
    {
     "data": {
      "text/html": [
       "<div>\n",
       "<style scoped>\n",
       "    .dataframe tbody tr th:only-of-type {\n",
       "        vertical-align: middle;\n",
       "    }\n",
       "\n",
       "    .dataframe tbody tr th {\n",
       "        vertical-align: top;\n",
       "    }\n",
       "\n",
       "    .dataframe thead th {\n",
       "        text-align: right;\n",
       "    }\n",
       "</style>\n",
       "<table border=\"1\" class=\"dataframe\">\n",
       "  <thead>\n",
       "    <tr style=\"text-align: right;\">\n",
       "      <th></th>\n",
       "      <th>Income</th>\n",
       "      <th>Limit</th>\n",
       "      <th>Rating</th>\n",
       "      <th>Cards</th>\n",
       "      <th>Age</th>\n",
       "      <th>Education</th>\n",
       "      <th>Gender</th>\n",
       "      <th>Student</th>\n",
       "      <th>Married</th>\n",
       "      <th>Ethnicity</th>\n",
       "      <th>Balance</th>\n",
       "      <th>Active</th>\n",
       "    </tr>\n",
       "  </thead>\n",
       "  <tbody>\n",
       "    <tr>\n",
       "      <th>1</th>\n",
       "      <td>14.891</td>\n",
       "      <td>3606</td>\n",
       "      <td>283</td>\n",
       "      <td>2</td>\n",
       "      <td>34</td>\n",
       "      <td>11</td>\n",
       "      <td>Male</td>\n",
       "      <td>No</td>\n",
       "      <td>Yes</td>\n",
       "      <td>Caucasian</td>\n",
       "      <td>333</td>\n",
       "      <td>Yes</td>\n",
       "    </tr>\n",
       "    <tr>\n",
       "      <th>2</th>\n",
       "      <td>106.025</td>\n",
       "      <td>6645</td>\n",
       "      <td>483</td>\n",
       "      <td>3</td>\n",
       "      <td>82</td>\n",
       "      <td>15</td>\n",
       "      <td>Female</td>\n",
       "      <td>Yes</td>\n",
       "      <td>Yes</td>\n",
       "      <td>Asian</td>\n",
       "      <td>903</td>\n",
       "      <td>Yes</td>\n",
       "    </tr>\n",
       "    <tr>\n",
       "      <th>3</th>\n",
       "      <td>104.593</td>\n",
       "      <td>7075</td>\n",
       "      <td>514</td>\n",
       "      <td>4</td>\n",
       "      <td>71</td>\n",
       "      <td>11</td>\n",
       "      <td>Male</td>\n",
       "      <td>No</td>\n",
       "      <td>No</td>\n",
       "      <td>Asian</td>\n",
       "      <td>580</td>\n",
       "      <td>Yes</td>\n",
       "    </tr>\n",
       "    <tr>\n",
       "      <th>4</th>\n",
       "      <td>148.924</td>\n",
       "      <td>9504</td>\n",
       "      <td>681</td>\n",
       "      <td>3</td>\n",
       "      <td>36</td>\n",
       "      <td>11</td>\n",
       "      <td>Female</td>\n",
       "      <td>No</td>\n",
       "      <td>No</td>\n",
       "      <td>Asian</td>\n",
       "      <td>964</td>\n",
       "      <td>Yes</td>\n",
       "    </tr>\n",
       "    <tr>\n",
       "      <th>5</th>\n",
       "      <td>55.882</td>\n",
       "      <td>4897</td>\n",
       "      <td>357</td>\n",
       "      <td>2</td>\n",
       "      <td>68</td>\n",
       "      <td>16</td>\n",
       "      <td>Male</td>\n",
       "      <td>No</td>\n",
       "      <td>Yes</td>\n",
       "      <td>Caucasian</td>\n",
       "      <td>331</td>\n",
       "      <td>Yes</td>\n",
       "    </tr>\n",
       "  </tbody>\n",
       "</table>\n",
       "</div>"
      ],
      "text/plain": [
       "    Income  Limit  Rating  Cards  Age  Education  Gender Student Married  \\\n",
       "1   14.891   3606     283      2   34         11    Male      No     Yes   \n",
       "2  106.025   6645     483      3   82         15  Female     Yes     Yes   \n",
       "3  104.593   7075     514      4   71         11    Male      No      No   \n",
       "4  148.924   9504     681      3   36         11  Female      No      No   \n",
       "5   55.882   4897     357      2   68         16    Male      No     Yes   \n",
       "\n",
       "   Ethnicity  Balance Active  \n",
       "1  Caucasian      333    Yes  \n",
       "2      Asian      903    Yes  \n",
       "3      Asian      580    Yes  \n",
       "4      Asian      964    Yes  \n",
       "5  Caucasian      331    Yes  "
      ]
     },
     "execution_count": 14,
     "metadata": {},
     "output_type": "execute_result"
    }
   ],
   "source": [
    "df.head()"
   ]
  },
  {
   "cell_type": "code",
   "execution_count": 15,
   "metadata": {},
   "outputs": [
    {
     "data": {
      "text/html": [
       "<div>\n",
       "<style scoped>\n",
       "    .dataframe tbody tr th:only-of-type {\n",
       "        vertical-align: middle;\n",
       "    }\n",
       "\n",
       "    .dataframe tbody tr th {\n",
       "        vertical-align: top;\n",
       "    }\n",
       "\n",
       "    .dataframe thead th {\n",
       "        text-align: right;\n",
       "    }\n",
       "</style>\n",
       "<table border=\"1\" class=\"dataframe\">\n",
       "  <thead>\n",
       "    <tr style=\"text-align: right;\">\n",
       "      <th></th>\n",
       "      <th>Income</th>\n",
       "      <th>Limit</th>\n",
       "      <th>Rating</th>\n",
       "      <th>Cards</th>\n",
       "      <th>Age</th>\n",
       "      <th>Education</th>\n",
       "      <th>Gender</th>\n",
       "      <th>Student</th>\n",
       "      <th>Married</th>\n",
       "      <th>Ethnicity</th>\n",
       "      <th>Balance</th>\n",
       "      <th>Active</th>\n",
       "    </tr>\n",
       "  </thead>\n",
       "  <tbody>\n",
       "    <tr>\n",
       "      <th>1</th>\n",
       "      <td>14.891</td>\n",
       "      <td>3606</td>\n",
       "      <td>283</td>\n",
       "      <td>2</td>\n",
       "      <td>34</td>\n",
       "      <td>11</td>\n",
       "      <td>Male</td>\n",
       "      <td>No</td>\n",
       "      <td>Yes</td>\n",
       "      <td>Caucasian</td>\n",
       "      <td>333</td>\n",
       "      <td>Yes</td>\n",
       "    </tr>\n",
       "    <tr>\n",
       "      <th>2</th>\n",
       "      <td>106.025</td>\n",
       "      <td>6645</td>\n",
       "      <td>483</td>\n",
       "      <td>3</td>\n",
       "      <td>82</td>\n",
       "      <td>15</td>\n",
       "      <td>Female</td>\n",
       "      <td>Yes</td>\n",
       "      <td>Yes</td>\n",
       "      <td>Asian</td>\n",
       "      <td>903</td>\n",
       "      <td>Yes</td>\n",
       "    </tr>\n",
       "    <tr>\n",
       "      <th>3</th>\n",
       "      <td>104.593</td>\n",
       "      <td>7075</td>\n",
       "      <td>514</td>\n",
       "      <td>4</td>\n",
       "      <td>71</td>\n",
       "      <td>11</td>\n",
       "      <td>Male</td>\n",
       "      <td>No</td>\n",
       "      <td>No</td>\n",
       "      <td>Asian</td>\n",
       "      <td>580</td>\n",
       "      <td>Yes</td>\n",
       "    </tr>\n",
       "    <tr>\n",
       "      <th>4</th>\n",
       "      <td>148.924</td>\n",
       "      <td>9504</td>\n",
       "      <td>681</td>\n",
       "      <td>3</td>\n",
       "      <td>36</td>\n",
       "      <td>11</td>\n",
       "      <td>Female</td>\n",
       "      <td>No</td>\n",
       "      <td>No</td>\n",
       "      <td>Asian</td>\n",
       "      <td>964</td>\n",
       "      <td>Yes</td>\n",
       "    </tr>\n",
       "    <tr>\n",
       "      <th>5</th>\n",
       "      <td>55.882</td>\n",
       "      <td>4897</td>\n",
       "      <td>357</td>\n",
       "      <td>2</td>\n",
       "      <td>68</td>\n",
       "      <td>16</td>\n",
       "      <td>Male</td>\n",
       "      <td>No</td>\n",
       "      <td>Yes</td>\n",
       "      <td>Caucasian</td>\n",
       "      <td>331</td>\n",
       "      <td>Yes</td>\n",
       "    </tr>\n",
       "    <tr>\n",
       "      <th>...</th>\n",
       "      <td>...</td>\n",
       "      <td>...</td>\n",
       "      <td>...</td>\n",
       "      <td>...</td>\n",
       "      <td>...</td>\n",
       "      <td>...</td>\n",
       "      <td>...</td>\n",
       "      <td>...</td>\n",
       "      <td>...</td>\n",
       "      <td>...</td>\n",
       "      <td>...</td>\n",
       "      <td>...</td>\n",
       "    </tr>\n",
       "    <tr>\n",
       "      <th>396</th>\n",
       "      <td>12.096</td>\n",
       "      <td>4100</td>\n",
       "      <td>307</td>\n",
       "      <td>3</td>\n",
       "      <td>32</td>\n",
       "      <td>13</td>\n",
       "      <td>Male</td>\n",
       "      <td>No</td>\n",
       "      <td>Yes</td>\n",
       "      <td>Caucasian</td>\n",
       "      <td>560</td>\n",
       "      <td>Yes</td>\n",
       "    </tr>\n",
       "    <tr>\n",
       "      <th>397</th>\n",
       "      <td>13.364</td>\n",
       "      <td>3838</td>\n",
       "      <td>296</td>\n",
       "      <td>5</td>\n",
       "      <td>65</td>\n",
       "      <td>17</td>\n",
       "      <td>Male</td>\n",
       "      <td>No</td>\n",
       "      <td>No</td>\n",
       "      <td>African American</td>\n",
       "      <td>480</td>\n",
       "      <td>Yes</td>\n",
       "    </tr>\n",
       "    <tr>\n",
       "      <th>398</th>\n",
       "      <td>57.872</td>\n",
       "      <td>4171</td>\n",
       "      <td>321</td>\n",
       "      <td>5</td>\n",
       "      <td>67</td>\n",
       "      <td>12</td>\n",
       "      <td>Female</td>\n",
       "      <td>No</td>\n",
       "      <td>Yes</td>\n",
       "      <td>Caucasian</td>\n",
       "      <td>138</td>\n",
       "      <td>Yes</td>\n",
       "    </tr>\n",
       "    <tr>\n",
       "      <th>399</th>\n",
       "      <td>37.728</td>\n",
       "      <td>2525</td>\n",
       "      <td>192</td>\n",
       "      <td>1</td>\n",
       "      <td>44</td>\n",
       "      <td>13</td>\n",
       "      <td>Male</td>\n",
       "      <td>No</td>\n",
       "      <td>Yes</td>\n",
       "      <td>Caucasian</td>\n",
       "      <td>0</td>\n",
       "      <td>No</td>\n",
       "    </tr>\n",
       "    <tr>\n",
       "      <th>400</th>\n",
       "      <td>18.701</td>\n",
       "      <td>5524</td>\n",
       "      <td>415</td>\n",
       "      <td>5</td>\n",
       "      <td>64</td>\n",
       "      <td>7</td>\n",
       "      <td>Female</td>\n",
       "      <td>No</td>\n",
       "      <td>No</td>\n",
       "      <td>Asian</td>\n",
       "      <td>966</td>\n",
       "      <td>Yes</td>\n",
       "    </tr>\n",
       "  </tbody>\n",
       "</table>\n",
       "<p>400 rows × 12 columns</p>\n",
       "</div>"
      ],
      "text/plain": [
       "      Income  Limit  Rating  Cards  Age  Education  Gender Student Married  \\\n",
       "1     14.891   3606     283      2   34         11    Male      No     Yes   \n",
       "2    106.025   6645     483      3   82         15  Female     Yes     Yes   \n",
       "3    104.593   7075     514      4   71         11    Male      No      No   \n",
       "4    148.924   9504     681      3   36         11  Female      No      No   \n",
       "5     55.882   4897     357      2   68         16    Male      No     Yes   \n",
       "..       ...    ...     ...    ...  ...        ...     ...     ...     ...   \n",
       "396   12.096   4100     307      3   32         13    Male      No     Yes   \n",
       "397   13.364   3838     296      5   65         17    Male      No      No   \n",
       "398   57.872   4171     321      5   67         12  Female      No     Yes   \n",
       "399   37.728   2525     192      1   44         13    Male      No     Yes   \n",
       "400   18.701   5524     415      5   64          7  Female      No      No   \n",
       "\n",
       "            Ethnicity  Balance Active  \n",
       "1           Caucasian      333    Yes  \n",
       "2               Asian      903    Yes  \n",
       "3               Asian      580    Yes  \n",
       "4               Asian      964    Yes  \n",
       "5           Caucasian      331    Yes  \n",
       "..                ...      ...    ...  \n",
       "396         Caucasian      560    Yes  \n",
       "397  African American      480    Yes  \n",
       "398         Caucasian      138    Yes  \n",
       "399         Caucasian        0     No  \n",
       "400             Asian      966    Yes  \n",
       "\n",
       "[400 rows x 12 columns]"
      ]
     },
     "execution_count": 15,
     "metadata": {},
     "output_type": "execute_result"
    }
   ],
   "source": [
    "df"
   ]
  },
  {
   "cell_type": "code",
   "execution_count": 16,
   "metadata": {},
   "outputs": [],
   "source": [
    "'''correlation matrix is used to determine the corrrelation between various independent variables of the\n",
    "dataframe. It is a very powerful tool'''\n",
    "numeric_df = df.select_dtypes(include=['int64','float64']) #contains only the columns having numerical value not categorical values"
   ]
  },
  {
   "cell_type": "code",
   "execution_count": 17,
   "metadata": {},
   "outputs": [
    {
     "data": {
      "text/html": [
       "<div>\n",
       "<style scoped>\n",
       "    .dataframe tbody tr th:only-of-type {\n",
       "        vertical-align: middle;\n",
       "    }\n",
       "\n",
       "    .dataframe tbody tr th {\n",
       "        vertical-align: top;\n",
       "    }\n",
       "\n",
       "    .dataframe thead th {\n",
       "        text-align: right;\n",
       "    }\n",
       "</style>\n",
       "<table border=\"1\" class=\"dataframe\">\n",
       "  <thead>\n",
       "    <tr style=\"text-align: right;\">\n",
       "      <th></th>\n",
       "      <th>Income</th>\n",
       "      <th>Limit</th>\n",
       "      <th>Rating</th>\n",
       "      <th>Cards</th>\n",
       "      <th>Age</th>\n",
       "      <th>Education</th>\n",
       "      <th>Balance</th>\n",
       "    </tr>\n",
       "  </thead>\n",
       "  <tbody>\n",
       "    <tr>\n",
       "      <th>1</th>\n",
       "      <td>14.891</td>\n",
       "      <td>3606</td>\n",
       "      <td>283</td>\n",
       "      <td>2</td>\n",
       "      <td>34</td>\n",
       "      <td>11</td>\n",
       "      <td>333</td>\n",
       "    </tr>\n",
       "    <tr>\n",
       "      <th>2</th>\n",
       "      <td>106.025</td>\n",
       "      <td>6645</td>\n",
       "      <td>483</td>\n",
       "      <td>3</td>\n",
       "      <td>82</td>\n",
       "      <td>15</td>\n",
       "      <td>903</td>\n",
       "    </tr>\n",
       "    <tr>\n",
       "      <th>3</th>\n",
       "      <td>104.593</td>\n",
       "      <td>7075</td>\n",
       "      <td>514</td>\n",
       "      <td>4</td>\n",
       "      <td>71</td>\n",
       "      <td>11</td>\n",
       "      <td>580</td>\n",
       "    </tr>\n",
       "    <tr>\n",
       "      <th>4</th>\n",
       "      <td>148.924</td>\n",
       "      <td>9504</td>\n",
       "      <td>681</td>\n",
       "      <td>3</td>\n",
       "      <td>36</td>\n",
       "      <td>11</td>\n",
       "      <td>964</td>\n",
       "    </tr>\n",
       "    <tr>\n",
       "      <th>5</th>\n",
       "      <td>55.882</td>\n",
       "      <td>4897</td>\n",
       "      <td>357</td>\n",
       "      <td>2</td>\n",
       "      <td>68</td>\n",
       "      <td>16</td>\n",
       "      <td>331</td>\n",
       "    </tr>\n",
       "  </tbody>\n",
       "</table>\n",
       "</div>"
      ],
      "text/plain": [
       "    Income  Limit  Rating  Cards  Age  Education  Balance\n",
       "1   14.891   3606     283      2   34         11      333\n",
       "2  106.025   6645     483      3   82         15      903\n",
       "3  104.593   7075     514      4   71         11      580\n",
       "4  148.924   9504     681      3   36         11      964\n",
       "5   55.882   4897     357      2   68         16      331"
      ]
     },
     "execution_count": 17,
     "metadata": {},
     "output_type": "execute_result"
    }
   ],
   "source": [
    "numeric_df.head()"
   ]
  },
  {
   "cell_type": "code",
   "execution_count": 18,
   "metadata": {},
   "outputs": [
    {
     "data": {
      "text/plain": [
       "([<matplotlib.axis.YTick at 0x20fc02c08e0>,\n",
       "  <matplotlib.axis.YTick at 0x20fc02c04c0>,\n",
       "  <matplotlib.axis.YTick at 0x20fc02a4550>,\n",
       "  <matplotlib.axis.YTick at 0x20fc032f250>,\n",
       "  <matplotlib.axis.YTick at 0x20fc0328970>,\n",
       "  <matplotlib.axis.YTick at 0x20fc03249d0>,\n",
       "  <matplotlib.axis.YTick at 0x20fc032f760>],\n",
       " [Text(0, 0, 'Income'),\n",
       "  Text(0, 0, 'Limit'),\n",
       "  Text(0, 0, 'Rating'),\n",
       "  Text(0, 0, 'Cards'),\n",
       "  Text(0, 0, 'Age'),\n",
       "  Text(0, 0, 'Education'),\n",
       "  Text(0, 0, 'Balance')])"
      ]
     },
     "execution_count": 18,
     "metadata": {},
     "output_type": "execute_result"
    },
    {
     "data": {
      "image/png": "[encoded data removed]",
      "text/plain": [
       "<Figure size 576x576 with 2 Axes>"
      ]
     },
     "metadata": {
      "needs_background": "light"
     },
     "output_type": "display_data"
    }
   ],
   "source": [
    "plt.figure(figsize=(8,8))\n",
    "plt.matshow(df.corr(), cmap=plt.cm.Blues, fignum=1)\n",
    "plt.colorbar()\n",
    "tick_marks = [i for i in range(len(numeric_df.columns))] #done to get the tickers for the columns and row\n",
    "plt.xticks(tick_marks, numeric_df.columns)\n",
    "plt.yticks(tick_marks, numeric_df.columns)"
   ]
  },
  {
   "cell_type": "markdown",
   "metadata": {},
   "source": [
    "The above correlation matrix shows that  Balance depends quite a lot on Limit and Rating and depends moderately on Income.\n",
    "We can also see that Limit and Rating rely heavily on eachother. They also influence the income. However only this\n",
    "investigation isn not sufficient."
   ]
  },
  {
   "cell_type": "code",
   "execution_count": 19,
   "metadata": {},
   "outputs": [
    {
     "name": "stdout",
     "output_type": "stream",
     "text": [
      "Correlation coefficient Balance-Limit: 0.8616972670153953\n",
      " p-value: 2.5305807117131246e-119\n",
      "\n",
      "Correlation coefficient Balance-Rating: 0.8636251606214954\n",
      " p-value: 1.8988990970389376e-120\n",
      "\n",
      "Correlation coefficient Balance-Income: 0.4636564570157575\n",
      " p-value: 1.0308858025890125e-22\n",
      "\n",
      "Correlation coefficient Limit-Rating: 0.9968797370016826\n",
      " p-value: 0.0\n",
      "\n",
      "Correlation coefficient Limit-Income: 0.7920883413369415\n",
      " p-value: 2.3917894422844805e-87\n",
      "\n",
      "Correlation coefficient Rating-Income: 0.7913776251121218\n",
      " p-value: 4.362691443088444e-87\n",
      "\n"
     ]
    }
   ],
   "source": [
    "from scipy.stats import pearsonr\n",
    "r1, p1 = pearsonr(df.Balance, df.Limit)\n",
    "msg = \"Correlation coefficient Balance-Limit: {}\\n p-value: {}\\n\"\n",
    "print(msg.format(r1, p1))\n",
    "r2, p2 = pearsonr(df.Balance, df.Rating)\n",
    "msg = \"Correlation coefficient Balance-Rating: {}\\n p-value: {}\\n\"\n",
    "print(msg.format(r2, p2))\n",
    "r3, p3 = pearsonr(df.Balance, df.Income)\n",
    "msg = \"Correlation coefficient Balance-Income: {}\\n p-value: {}\\n\"\n",
    "print(msg.format(r3, p3))\n",
    "r4, p4 = pearsonr(df.Limit, df.Rating)\n",
    "msg = \"Correlation coefficient Limit-Rating: {}\\n p-value: {}\\n\"\n",
    "print(msg.format(r4, p4))\n",
    "r5, p5 = pearsonr(df.Limit, df.Income)\n",
    "msg = \"Correlation coefficient Limit-Income: {}\\n p-value: {}\\n\"\n",
    "print(msg.format(r5, p5))\n",
    "r6, p6 = pearsonr(df.Rating, df.Income)\n",
    "msg = \"Correlation coefficient Rating-Income: {}\\n p-value: {}\\n\"\n",
    "print(msg.format(r6, p6))"
   ]
  },
  {
   "cell_type": "markdown",
   "metadata": {},
   "source": [
    "Correlation coeff of 0 means no correlation, -1 means opposite correlation and 1 means similar linear correlation. We see that the correlation coefficients are quite significant. Also Limit-Rating has a very significant correlation."
   ]
  },
  {
   "cell_type": "code",
   "execution_count": 20,
   "metadata": {},
   "outputs": [
    {
     "data": {
      "text/plain": [
       "<matplotlib.axes._subplots.AxesSubplot at 0x20fc0357f70>"
      ]
     },
     "execution_count": 20,
     "metadata": {},
     "output_type": "execute_result"
    },
    {
     "data": {
      "image/png": "[encoded data removed]",
      "text/plain": [
       "<Figure size 432x288 with 1 Axes>"
      ]
     },
     "metadata": {
      "needs_background": "light"
     },
     "output_type": "display_data"
    }
   ],
   "source": [
    "sns.regplot(x='Limit', y='Rating', data=df, scatter_kws = {'s': 20},line_kws = {'color':'black'})"
   ]
  },
  {
   "cell_type": "code",
   "execution_count": 21,
   "metadata": {},
   "outputs": [
    {
     "data": {
      "text/plain": [
       "Gender\n",
       " Male     AxesSubplot(0.125,0.125;0.775x0.755)\n",
       "Female    AxesSubplot(0.125,0.125;0.775x0.755)\n",
       "Name: Balance, dtype: object"
      ]
     },
     "execution_count": 21,
     "metadata": {},
     "output_type": "execute_result"
    },
    {
     "data": {
      "image/png": "[encoded data removed]",
      "text/plain": [
       "<Figure size 432x288 with 1 Axes>"
      ]
     },
     "metadata": {
      "needs_background": "light"
     },
     "output_type": "display_data"
    }
   ],
   "source": [
    "'''Examining the categorical variables and their relationship with Balance'''\n",
    "df.groupby('Gender').Balance.plot(kind='kde', legend=True, title='Balance by Gender')\n"
   ]
  },
  {
   "cell_type": "code",
   "execution_count": 22,
   "metadata": {},
   "outputs": [
    {
     "data": {
      "text/plain": [
       "Student\n",
       "No     AxesSubplot(0.125,0.125;0.775x0.755)\n",
       "Yes    AxesSubplot(0.125,0.125;0.775x0.755)\n",
       "Name: Balance, dtype: object"
      ]
     },
     "execution_count": 22,
     "metadata": {},
     "output_type": "execute_result"
    },
    {
     "data": {
      "image/png": "[encoded data removed]",
      "text/plain": [
       "<Figure size 432x288 with 1 Axes>"
      ]
     },
     "metadata": {
      "needs_background": "light"
     },
     "output_type": "display_data"
    }
   ],
   "source": [
    "df.groupby('Student').Balance.plot(kind='kde', legend=True, title='Balance by Student')"
   ]
  },
  {
   "cell_type": "code",
   "execution_count": 23,
   "metadata": {},
   "outputs": [
    {
     "data": {
      "text/plain": [
       "Married\n",
       "No     AxesSubplot(0.125,0.125;0.775x0.755)\n",
       "Yes    AxesSubplot(0.125,0.125;0.775x0.755)\n",
       "Name: Balance, dtype: object"
      ]
     },
     "execution_count": 23,
     "metadata": {},
     "output_type": "execute_result"
    },
    {
     "data": {
      "image/png": "[encoded data removed]",
      "text/plain": [
       "<Figure size 432x288 with 1 Axes>"
      ]
     },
     "metadata": {
      "needs_background": "light"
     },
     "output_type": "display_data"
    }
   ],
   "source": [
    "df.groupby('Married').Balance.plot(kind='kde', legend=True, title='Balance by Married')\n"
   ]
  },
  {
   "cell_type": "code",
   "execution_count": 24,
   "metadata": {},
   "outputs": [
    {
     "data": {
      "text/plain": [
       "Ethnicity\n",
       "African American    AxesSubplot(0.125,0.125;0.775x0.755)\n",
       "Asian               AxesSubplot(0.125,0.125;0.775x0.755)\n",
       "Caucasian           AxesSubplot(0.125,0.125;0.775x0.755)\n",
       "Name: Balance, dtype: object"
      ]
     },
     "execution_count": 24,
     "metadata": {},
     "output_type": "execute_result"
    },
    {
     "data": {
      "image/png": "[encoded data removed]",
      "text/plain": [
       "<Figure size 432x288 with 1 Axes>"
      ]
     },
     "metadata": {
      "needs_background": "light"
     },
     "output_type": "display_data"
    }
   ],
   "source": [
    "df.groupby('Ethnicity').Balance.plot(kind='kde',legend=True, title='Balance by Ethnicity')"
   ]
  },
  {
   "cell_type": "markdown",
   "metadata": {},
   "source": [
    "We see only the categorical variable student affects the Balance distribution. Now we can verify the same only on the active data."
   ]
  },
  {
   "cell_type": "code",
   "execution_count": 25,
   "metadata": {},
   "outputs": [
    {
     "data": {
      "text/plain": [
       "Gender\n",
       " Male     AxesSubplot(0.125,0.125;0.775x0.755)\n",
       "Female    AxesSubplot(0.125,0.125;0.775x0.755)\n",
       "Name: Balance, dtype: object"
      ]
     },
     "execution_count": 25,
     "metadata": {},
     "output_type": "execute_result"
    },
    {
     "data": {
      "image/png": "[encoded data removed]",
      "text/plain": [
       "<Figure size 432x288 with 1 Axes>"
      ]
     },
     "metadata": {
      "needs_background": "light"
     },
     "output_type": "display_data"
    }
   ],
   "source": [
    "active_balance.groupby('Gender').Balance.plot(kind='kde',legend=True, title='Balance by Gender')"
   ]
  },
  {
   "cell_type": "code",
   "execution_count": 26,
   "metadata": {},
   "outputs": [
    {
     "data": {
      "text/plain": [
       "Student\n",
       "No     AxesSubplot(0.125,0.125;0.775x0.755)\n",
       "Yes    AxesSubplot(0.125,0.125;0.775x0.755)\n",
       "Name: Balance, dtype: object"
      ]
     },
     "execution_count": 26,
     "metadata": {},
     "output_type": "execute_result"
    },
    {
     "data": {
      "image/png": "[encoded data removed]",
      "text/plain": [
       "<Figure size 432x288 with 1 Axes>"
      ]
     },
     "metadata": {
      "needs_background": "light"
     },
     "output_type": "display_data"
    }
   ],
   "source": [
    "active_balance.groupby('Student').Balance.plot(kind='kde', legend=True, title='Balance by Student')"
   ]
  },
  {
   "cell_type": "code",
   "execution_count": 27,
   "metadata": {},
   "outputs": [
    {
     "data": {
      "text/plain": [
       "Married\n",
       "No     AxesSubplot(0.125,0.125;0.775x0.755)\n",
       "Yes    AxesSubplot(0.125,0.125;0.775x0.755)\n",
       "Name: Balance, dtype: object"
      ]
     },
     "execution_count": 27,
     "metadata": {},
     "output_type": "execute_result"
    },
    {
     "data": {
      "image/png": "[encoded data removed]",
      "text/plain": [
       "<Figure size 432x288 with 1 Axes>"
      ]
     },
     "metadata": {
      "needs_background": "light"
     },
     "output_type": "display_data"
    }
   ],
   "source": [
    "active_balance.groupby('Married').Balance.plot(kind='kde', legend=True, title='Balance by Married')"
   ]
  },
  {
   "cell_type": "code",
   "execution_count": 28,
   "metadata": {},
   "outputs": [
    {
     "data": {
      "text/plain": [
       "Ethnicity\n",
       "African American    AxesSubplot(0.125,0.125;0.775x0.755)\n",
       "Asian               AxesSubplot(0.125,0.125;0.775x0.755)\n",
       "Caucasian           AxesSubplot(0.125,0.125;0.775x0.755)\n",
       "Name: Balance, dtype: object"
      ]
     },
     "execution_count": 28,
     "metadata": {},
     "output_type": "execute_result"
    },
    {
     "data": {
      "image/png": "[encoded data removed]",
      "text/plain": [
       "<Figure size 432x288 with 1 Axes>"
      ]
     },
     "metadata": {
      "needs_background": "light"
     },
     "output_type": "display_data"
    }
   ],
   "source": [
    "active_balance.groupby('Ethnicity').Balance.plot(kind='kde', legend=True, title='Balance by Ethnicity')"
   ]
  },
  {
   "cell_type": "code",
   "execution_count": 29,
   "metadata": {},
   "outputs": [
    {
     "data": {
      "text/plain": [
       "<matplotlib.axes._subplots.AxesSubplot at 0x20fc17997c0>"
      ]
     },
     "execution_count": 29,
     "metadata": {},
     "output_type": "execute_result"
    },
    {
     "data": {
      "image/png": "[encoded data removed]",
      "text/plain": [
       "<Figure size 432x288 with 1 Axes>"
      ]
     },
     "metadata": {
      "needs_background": "light"
     },
     "output_type": "display_data"
    }
   ],
   "source": [
    "'''Examining the student variable further.'''\n",
    "sns.boxplot(x='Student', y='Balance', data = df)"
   ]
  },
  {
   "cell_type": "markdown",
   "metadata": {},
   "source": [
    "We see that generally students have a highe rcredit card Balance. This can be because students have to pay loans. \n",
    "They also have low personal income. They also have less control over their finances and hence end up spending more."
   ]
  },
  {
   "cell_type": "markdown",
   "metadata": {},
   "source": [
    "## Multivariable Regression Modelling"
   ]
  },
  {
   "cell_type": "markdown",
   "metadata": {},
   "source": [
    "We have earlier seen that Limit and Rating are highly correlated. Rating makes more sense to be used to predit Balance.\n",
    "So we drop limit and create a Linear Regression model using ordinary least square method."
   ]
  },
  {
   "cell_type": "code",
   "execution_count": 30,
   "metadata": {},
   "outputs": [
    {
     "data": {
      "text/html": [
       "<table class=\"simpletable\">\n",
       "<caption>OLS Regression Results</caption>\n",
       "<tr>\n",
       "  <th>Dep. Variable:</th>         <td>Balance</td>     <th>  R-squared:         </th> <td>   0.951</td> \n",
       "</tr>\n",
       "<tr>\n",
       "  <th>Model:</th>                   <td>OLS</td>       <th>  Adj. R-squared:    </th> <td>   0.950</td> \n",
       "</tr>\n",
       "<tr>\n",
       "  <th>Method:</th>             <td>Least Squares</td>  <th>  F-statistic:       </th> <td>   757.8</td> \n",
       "</tr>\n",
       "<tr>\n",
       "  <th>Date:</th>             <td>Sun, 04 Sep 2022</td> <th>  Prob (F-statistic):</th> <td>4.46e-248</td>\n",
       "</tr>\n",
       "<tr>\n",
       "  <th>Time:</th>                 <td>00:14:17</td>     <th>  Log-Likelihood:    </th> <td> -2415.4</td> \n",
       "</tr>\n",
       "<tr>\n",
       "  <th>No. Observations:</th>      <td>   400</td>      <th>  AIC:               </th> <td>   4853.</td> \n",
       "</tr>\n",
       "<tr>\n",
       "  <th>Df Residuals:</th>          <td>   389</td>      <th>  BIC:               </th> <td>   4897.</td> \n",
       "</tr>\n",
       "<tr>\n",
       "  <th>Df Model:</th>              <td>    10</td>      <th>                     </th>     <td> </td>    \n",
       "</tr>\n",
       "<tr>\n",
       "  <th>Covariance Type:</th>      <td>nonrobust</td>    <th>                     </th>     <td> </td>    \n",
       "</tr>\n",
       "</table>\n",
       "<table class=\"simpletable\">\n",
       "<tr>\n",
       "             <td></td>               <th>coef</th>     <th>std err</th>      <th>t</th>      <th>P>|t|</th>  <th>[0.025</th>    <th>0.975]</th>  \n",
       "</tr>\n",
       "<tr>\n",
       "  <th>Intercept</th>              <td> -549.3140</td> <td>   35.085</td> <td>  -15.657</td> <td> 0.000</td> <td> -618.293</td> <td> -480.335</td>\n",
       "</tr>\n",
       "<tr>\n",
       "  <th>Gender[T.Female]</th>       <td>  -10.7106</td> <td>   10.325</td> <td>   -1.037</td> <td> 0.300</td> <td>  -31.010</td> <td>    9.589</td>\n",
       "</tr>\n",
       "<tr>\n",
       "  <th>Student[T.Yes]</th>         <td>  416.4376</td> <td>   17.336</td> <td>   24.021</td> <td> 0.000</td> <td>  382.353</td> <td>  450.522</td>\n",
       "</tr>\n",
       "<tr>\n",
       "  <th>Married[T.Yes]</th>         <td>  -15.1096</td> <td>   10.728</td> <td>   -1.408</td> <td> 0.160</td> <td>  -36.202</td> <td>    5.983</td>\n",
       "</tr>\n",
       "<tr>\n",
       "  <th>Ethnicity[T.Asian]</th>     <td>   21.7616</td> <td>   14.678</td> <td>    1.483</td> <td> 0.139</td> <td>   -7.096</td> <td>   50.619</td>\n",
       "</tr>\n",
       "<tr>\n",
       "  <th>Ethnicity[T.Caucasian]</th> <td>   10.6492</td> <td>   12.716</td> <td>    0.837</td> <td> 0.403</td> <td>  -14.351</td> <td>   35.649</td>\n",
       "</tr>\n",
       "<tr>\n",
       "  <th>Income</th>                 <td>   -7.7746</td> <td>    0.244</td> <td>  -31.878</td> <td> 0.000</td> <td>   -8.254</td> <td>   -7.295</td>\n",
       "</tr>\n",
       "<tr>\n",
       "  <th>Rating</th>                 <td>    3.9790</td> <td>    0.055</td> <td>   72.332</td> <td> 0.000</td> <td>    3.871</td> <td>    4.087</td>\n",
       "</tr>\n",
       "<tr>\n",
       "  <th>Cards</th>                  <td>    3.9654</td> <td>    3.793</td> <td>    1.045</td> <td> 0.296</td> <td>   -3.492</td> <td>   11.422</td>\n",
       "</tr>\n",
       "<tr>\n",
       "  <th>Age</th>                    <td>   -0.6416</td> <td>    0.306</td> <td>   -2.096</td> <td> 0.037</td> <td>   -1.243</td> <td>   -0.040</td>\n",
       "</tr>\n",
       "<tr>\n",
       "  <th>Education</th>              <td>   -0.3799</td> <td>    1.659</td> <td>   -0.229</td> <td> 0.819</td> <td>   -3.642</td> <td>    2.882</td>\n",
       "</tr>\n",
       "</table>\n",
       "<table class=\"simpletable\">\n",
       "<tr>\n",
       "  <th>Omnibus:</th>       <td>15.651</td> <th>  Durbin-Watson:     </th> <td>   1.987</td>\n",
       "</tr>\n",
       "<tr>\n",
       "  <th>Prob(Omnibus):</th> <td> 0.000</td> <th>  Jarque-Bera (JB):  </th> <td>  16.769</td>\n",
       "</tr>\n",
       "<tr>\n",
       "  <th>Skew:</th>          <td> 0.490</td> <th>  Prob(JB):          </th> <td>0.000228</td>\n",
       "</tr>\n",
       "<tr>\n",
       "  <th>Kurtosis:</th>      <td> 2.789</td> <th>  Cond. No.          </th> <td>2.73e+03</td>\n",
       "</tr>\n",
       "</table><br/><br/>Notes:<br/>[1] Standard Errors assume that the covariance matrix of the errors is correctly specified.<br/>[2] The condition number is large, 2.73e+03. This might indicate that there are<br/>strong multicollinearity or other numerical problems."
      ],
      "text/plain": [
       "<class 'statsmodels.iolib.summary.Summary'>\n",
       "\"\"\"\n",
       "                            OLS Regression Results                            \n",
       "==============================================================================\n",
       "Dep. Variable:                Balance   R-squared:                       0.951\n",
       "Model:                            OLS   Adj. R-squared:                  0.950\n",
       "Method:                 Least Squares   F-statistic:                     757.8\n",
       "Date:                Sun, 04 Sep 2022   Prob (F-statistic):          4.46e-248\n",
       "Time:                        00:14:17   Log-Likelihood:                -2415.4\n",
       "No. Observations:                 400   AIC:                             4853.\n",
       "Df Residuals:                     389   BIC:                             4897.\n",
       "Df Model:                          10                                         \n",
       "Covariance Type:            nonrobust                                         \n",
       "==========================================================================================\n",
       "                             coef    std err          t      P>|t|      [0.025      0.975]\n",
       "------------------------------------------------------------------------------------------\n",
       "Intercept               -549.3140     35.085    -15.657      0.000    -618.293    -480.335\n",
       "Gender[T.Female]         -10.7106     10.325     -1.037      0.300     -31.010       9.589\n",
       "Student[T.Yes]           416.4376     17.336     24.021      0.000     382.353     450.522\n",
       "Married[T.Yes]           -15.1096     10.728     -1.408      0.160     -36.202       5.983\n",
       "Ethnicity[T.Asian]        21.7616     14.678      1.483      0.139      -7.096      50.619\n",
       "Ethnicity[T.Caucasian]    10.6492     12.716      0.837      0.403     -14.351      35.649\n",
       "Income                    -7.7746      0.244    -31.878      0.000      -8.254      -7.295\n",
       "Rating                     3.9790      0.055     72.332      0.000       3.871       4.087\n",
       "Cards                      3.9654      3.793      1.045      0.296      -3.492      11.422\n",
       "Age                       -0.6416      0.306     -2.096      0.037      -1.243      -0.040\n",
       "Education                 -0.3799      1.659     -0.229      0.819      -3.642       2.882\n",
       "==============================================================================\n",
       "Omnibus:                       15.651   Durbin-Watson:                   1.987\n",
       "Prob(Omnibus):                  0.000   Jarque-Bera (JB):               16.769\n",
       "Skew:                           0.490   Prob(JB):                     0.000228\n",
       "Kurtosis:                       2.789   Cond. No.                     2.73e+03\n",
       "==============================================================================\n",
       "\n",
       "Notes:\n",
       "[1] Standard Errors assume that the covariance matrix of the errors is correctly specified.\n",
       "[2] The condition number is large, 2.73e+03. This might indicate that there are\n",
       "strong multicollinearity or other numerical problems.\n",
       "\"\"\""
      ]
     },
     "execution_count": 30,
     "metadata": {},
     "output_type": "execute_result"
    }
   ],
   "source": [
    "model = smf.ols('Balance ~ Income + Rating + Cards + Age + Education + Gender + Student + Married + Ethnicity', data = df).fit()\n",
    "model.summary()"
   ]
  },
  {
   "cell_type": "markdown",
   "metadata": {},
   "source": [
    "Income has a negative impact that is if income is high, generally the need to access loans will be less. With age, credit\n",
    "balance decreases as people become more responsible of their expenses. Factors lie Ethnicity, Cards, Age, Marriage do not have a significant impact ."
   ]
  },
  {
   "cell_type": "code",
   "execution_count": 31,
   "metadata": {},
   "outputs": [
    {
     "data": {
      "text/html": [
       "<table class=\"simpletable\">\n",
       "<caption>OLS Regression Results</caption>\n",
       "<tr>\n",
       "  <th>Dep. Variable:</th>         <td>Balance</td>     <th>  R-squared:         </th> <td>   0.985</td> \n",
       "</tr>\n",
       "<tr>\n",
       "  <th>Model:</th>                   <td>OLS</td>       <th>  Adj. R-squared:    </th> <td>   0.984</td> \n",
       "</tr>\n",
       "<tr>\n",
       "  <th>Method:</th>             <td>Least Squares</td>  <th>  F-statistic:       </th> <td>   1918.</td> \n",
       "</tr>\n",
       "<tr>\n",
       "  <th>Date:</th>             <td>Sun, 04 Sep 2022</td> <th>  Prob (F-statistic):</th> <td>1.38e-264</td>\n",
       "</tr>\n",
       "<tr>\n",
       "  <th>Time:</th>                 <td>00:14:17</td>     <th>  Log-Likelihood:    </th> <td> -1659.9</td> \n",
       "</tr>\n",
       "<tr>\n",
       "  <th>No. Observations:</th>      <td>   310</td>      <th>  AIC:               </th> <td>   3342.</td> \n",
       "</tr>\n",
       "<tr>\n",
       "  <th>Df Residuals:</th>          <td>   299</td>      <th>  BIC:               </th> <td>   3383.</td> \n",
       "</tr>\n",
       "<tr>\n",
       "  <th>Df Model:</th>              <td>    10</td>      <th>                     </th>     <td> </td>    \n",
       "</tr>\n",
       "<tr>\n",
       "  <th>Covariance Type:</th>      <td>nonrobust</td>    <th>                     </th>     <td> </td>    \n",
       "</tr>\n",
       "</table>\n",
       "<table class=\"simpletable\">\n",
       "<tr>\n",
       "             <td></td>               <th>coef</th>     <th>std err</th>      <th>t</th>      <th>P>|t|</th>  <th>[0.025</th>    <th>0.975]</th>  \n",
       "</tr>\n",
       "<tr>\n",
       "  <th>Intercept</th>              <td> -791.3689</td> <td>   21.193</td> <td>  -37.340</td> <td> 0.000</td> <td> -833.076</td> <td> -749.662</td>\n",
       "</tr>\n",
       "<tr>\n",
       "  <th>Gender[T.Female]</th>       <td>   -2.6107</td> <td>    5.961</td> <td>   -0.438</td> <td> 0.662</td> <td>  -14.341</td> <td>    9.119</td>\n",
       "</tr>\n",
       "<tr>\n",
       "  <th>Student[T.Yes]</th>         <td>  478.1566</td> <td>    9.239</td> <td>   51.752</td> <td> 0.000</td> <td>  459.974</td> <td>  496.339</td>\n",
       "</tr>\n",
       "<tr>\n",
       "  <th>Married[T.Yes]</th>         <td>  -14.0808</td> <td>    6.221</td> <td>   -2.263</td> <td> 0.024</td> <td>  -26.324</td> <td>   -1.837</td>\n",
       "</tr>\n",
       "<tr>\n",
       "  <th>Ethnicity[T.Asian]</th>     <td>    4.1786</td> <td>    8.590</td> <td>    0.486</td> <td> 0.627</td> <td>  -12.726</td> <td>   21.083</td>\n",
       "</tr>\n",
       "<tr>\n",
       "  <th>Ethnicity[T.Caucasian]</th> <td>   -1.8990</td> <td>    7.284</td> <td>   -0.261</td> <td> 0.794</td> <td>  -16.233</td> <td>   12.435</td>\n",
       "</tr>\n",
       "<tr>\n",
       "  <th>Income</th>                 <td>   -9.7126</td> <td>    0.145</td> <td>  -66.859</td> <td> 0.000</td> <td>   -9.999</td> <td>   -9.427</td>\n",
       "</tr>\n",
       "<tr>\n",
       "  <th>Rating</th>                 <td>    4.7767</td> <td>    0.040</td> <td>  120.602</td> <td> 0.000</td> <td>    4.699</td> <td>    4.855</td>\n",
       "</tr>\n",
       "<tr>\n",
       "  <th>Cards</th>                  <td>    3.0923</td> <td>    2.102</td> <td>    1.471</td> <td> 0.142</td> <td>   -1.045</td> <td>    7.229</td>\n",
       "</tr>\n",
       "<tr>\n",
       "  <th>Age</th>                    <td>   -1.1431</td> <td>    0.176</td> <td>   -6.481</td> <td> 0.000</td> <td>   -1.490</td> <td>   -0.796</td>\n",
       "</tr>\n",
       "<tr>\n",
       "  <th>Education</th>              <td>    1.2817</td> <td>    0.938</td> <td>    1.366</td> <td> 0.173</td> <td>   -0.564</td> <td>    3.128</td>\n",
       "</tr>\n",
       "</table>\n",
       "<table class=\"simpletable\">\n",
       "<tr>\n",
       "  <th>Omnibus:</th>       <td> 2.652</td> <th>  Durbin-Watson:     </th> <td>   2.008</td>\n",
       "</tr>\n",
       "<tr>\n",
       "  <th>Prob(Omnibus):</th> <td> 0.265</td> <th>  Jarque-Bera (JB):  </th> <td>   2.433</td>\n",
       "</tr>\n",
       "<tr>\n",
       "  <th>Skew:</th>          <td>-0.139</td> <th>  Prob(JB):          </th> <td>   0.296</td>\n",
       "</tr>\n",
       "<tr>\n",
       "  <th>Kurtosis:</th>      <td> 2.666</td> <th>  Cond. No.          </th> <td>3.14e+03</td>\n",
       "</tr>\n",
       "</table><br/><br/>Notes:<br/>[1] Standard Errors assume that the covariance matrix of the errors is correctly specified.<br/>[2] The condition number is large, 3.14e+03. This might indicate that there are<br/>strong multicollinearity or other numerical problems."
      ],
      "text/plain": [
       "<class 'statsmodels.iolib.summary.Summary'>\n",
       "\"\"\"\n",
       "                            OLS Regression Results                            \n",
       "==============================================================================\n",
       "Dep. Variable:                Balance   R-squared:                       0.985\n",
       "Model:                            OLS   Adj. R-squared:                  0.984\n",
       "Method:                 Least Squares   F-statistic:                     1918.\n",
       "Date:                Sun, 04 Sep 2022   Prob (F-statistic):          1.38e-264\n",
       "Time:                        00:14:17   Log-Likelihood:                -1659.9\n",
       "No. Observations:                 310   AIC:                             3342.\n",
       "Df Residuals:                     299   BIC:                             3383.\n",
       "Df Model:                          10                                         \n",
       "Covariance Type:            nonrobust                                         \n",
       "==========================================================================================\n",
       "                             coef    std err          t      P>|t|      [0.025      0.975]\n",
       "------------------------------------------------------------------------------------------\n",
       "Intercept               -791.3689     21.193    -37.340      0.000    -833.076    -749.662\n",
       "Gender[T.Female]          -2.6107      5.961     -0.438      0.662     -14.341       9.119\n",
       "Student[T.Yes]           478.1566      9.239     51.752      0.000     459.974     496.339\n",
       "Married[T.Yes]           -14.0808      6.221     -2.263      0.024     -26.324      -1.837\n",
       "Ethnicity[T.Asian]         4.1786      8.590      0.486      0.627     -12.726      21.083\n",
       "Ethnicity[T.Caucasian]    -1.8990      7.284     -0.261      0.794     -16.233      12.435\n",
       "Income                    -9.7126      0.145    -66.859      0.000      -9.999      -9.427\n",
       "Rating                     4.7767      0.040    120.602      0.000       4.699       4.855\n",
       "Cards                      3.0923      2.102      1.471      0.142      -1.045       7.229\n",
       "Age                       -1.1431      0.176     -6.481      0.000      -1.490      -0.796\n",
       "Education                  1.2817      0.938      1.366      0.173      -0.564       3.128\n",
       "==============================================================================\n",
       "Omnibus:                        2.652   Durbin-Watson:                   2.008\n",
       "Prob(Omnibus):                  0.265   Jarque-Bera (JB):                2.433\n",
       "Skew:                          -0.139   Prob(JB):                        0.296\n",
       "Kurtosis:                       2.666   Cond. No.                     3.14e+03\n",
       "==============================================================================\n",
       "\n",
       "Notes:\n",
       "[1] Standard Errors assume that the covariance matrix of the errors is correctly specified.\n",
       "[2] The condition number is large, 3.14e+03. This might indicate that there are\n",
       "strong multicollinearity or other numerical problems.\n",
       "\"\"\""
      ]
     },
     "execution_count": 31,
     "metadata": {},
     "output_type": "execute_result"
    }
   ],
   "source": [
    "model_active = smf.ols('Balance ~ Income + Rating + Cards + Age + Education + Gender + Student + Married + Ethnicity', data = active_balance).fit()\n",
    "model_active.summary()"
   ]
  },
  {
   "cell_type": "code",
   "execution_count": 32,
   "metadata": {},
   "outputs": [
    {
     "data": {
      "text/html": [
       "<table class=\"simpletable\">\n",
       "<caption>OLS Regression Results</caption>\n",
       "<tr>\n",
       "  <th>Dep. Variable:</th>         <td>Balance</td>     <th>  R-squared:         </th> <td>   0.950</td> \n",
       "</tr>\n",
       "<tr>\n",
       "  <th>Model:</th>                   <td>OLS</td>       <th>  Adj. R-squared:    </th> <td>   0.950</td> \n",
       "</tr>\n",
       "<tr>\n",
       "  <th>Method:</th>             <td>Least Squares</td>  <th>  F-statistic:       </th> <td>   1892.</td> \n",
       "</tr>\n",
       "<tr>\n",
       "  <th>Date:</th>             <td>Sun, 04 Sep 2022</td> <th>  Prob (F-statistic):</th> <td>4.17e-256</td>\n",
       "</tr>\n",
       "<tr>\n",
       "  <th>Time:</th>                 <td>00:14:18</td>     <th>  Log-Likelihood:    </th> <td> -2418.6</td> \n",
       "</tr>\n",
       "<tr>\n",
       "  <th>No. Observations:</th>      <td>   400</td>      <th>  AIC:               </th> <td>   4847.</td> \n",
       "</tr>\n",
       "<tr>\n",
       "  <th>Df Residuals:</th>          <td>   395</td>      <th>  BIC:               </th> <td>   4867.</td> \n",
       "</tr>\n",
       "<tr>\n",
       "  <th>Df Model:</th>              <td>     4</td>      <th>                     </th>     <td> </td>    \n",
       "</tr>\n",
       "<tr>\n",
       "  <th>Covariance Type:</th>      <td>nonrobust</td>    <th>                     </th>     <td> </td>    \n",
       "</tr>\n",
       "</table>\n",
       "<table class=\"simpletable\">\n",
       "<tr>\n",
       "         <td></td>           <th>coef</th>     <th>std err</th>      <th>t</th>      <th>P>|t|</th>  <th>[0.025</th>    <th>0.975]</th>  \n",
       "</tr>\n",
       "<tr>\n",
       "  <th>Intercept</th>      <td> -547.3047</td> <td>   21.461</td> <td>  -25.503</td> <td> 0.000</td> <td> -589.496</td> <td> -505.113</td>\n",
       "</tr>\n",
       "<tr>\n",
       "  <th>Student[T.Yes]</th> <td>  417.5056</td> <td>   17.172</td> <td>   24.314</td> <td> 0.000</td> <td>  383.746</td> <td>  451.265</td>\n",
       "</tr>\n",
       "<tr>\n",
       "  <th>Income</th>         <td>   -7.7977</td> <td>    0.242</td> <td>  -32.198</td> <td> 0.000</td> <td>   -8.274</td> <td>   -7.322</td>\n",
       "</tr>\n",
       "<tr>\n",
       "  <th>Rating</th>         <td>    3.9807</td> <td>    0.055</td> <td>   72.927</td> <td> 0.000</td> <td>    3.873</td> <td>    4.088</td>\n",
       "</tr>\n",
       "<tr>\n",
       "  <th>Age</th>            <td>   -0.6242</td> <td>    0.304</td> <td>   -2.053</td> <td> 0.041</td> <td>   -1.222</td> <td>   -0.026</td>\n",
       "</tr>\n",
       "</table>\n",
       "<table class=\"simpletable\">\n",
       "<tr>\n",
       "  <th>Omnibus:</th>       <td>15.838</td> <th>  Durbin-Watson:     </th> <td>   1.953</td>\n",
       "</tr>\n",
       "<tr>\n",
       "  <th>Prob(Omnibus):</th> <td> 0.000</td> <th>  Jarque-Bera (JB):  </th> <td>  17.000</td>\n",
       "</tr>\n",
       "<tr>\n",
       "  <th>Skew:</th>          <td> 0.494</td> <th>  Prob(JB):          </th> <td>0.000203</td>\n",
       "</tr>\n",
       "<tr>\n",
       "  <th>Kurtosis:</th>      <td> 2.793</td> <th>  Cond. No.          </th> <td>1.66e+03</td>\n",
       "</tr>\n",
       "</table><br/><br/>Notes:<br/>[1] Standard Errors assume that the covariance matrix of the errors is correctly specified.<br/>[2] The condition number is large, 1.66e+03. This might indicate that there are<br/>strong multicollinearity or other numerical problems."
      ],
      "text/plain": [
       "<class 'statsmodels.iolib.summary.Summary'>\n",
       "\"\"\"\n",
       "                            OLS Regression Results                            \n",
       "==============================================================================\n",
       "Dep. Variable:                Balance   R-squared:                       0.950\n",
       "Model:                            OLS   Adj. R-squared:                  0.950\n",
       "Method:                 Least Squares   F-statistic:                     1892.\n",
       "Date:                Sun, 04 Sep 2022   Prob (F-statistic):          4.17e-256\n",
       "Time:                        00:14:18   Log-Likelihood:                -2418.6\n",
       "No. Observations:                 400   AIC:                             4847.\n",
       "Df Residuals:                     395   BIC:                             4867.\n",
       "Df Model:                           4                                         \n",
       "Covariance Type:            nonrobust                                         \n",
       "==================================================================================\n",
       "                     coef    std err          t      P>|t|      [0.025      0.975]\n",
       "----------------------------------------------------------------------------------\n",
       "Intercept       -547.3047     21.461    -25.503      0.000    -589.496    -505.113\n",
       "Student[T.Yes]   417.5056     17.172     24.314      0.000     383.746     451.265\n",
       "Income            -7.7977      0.242    -32.198      0.000      -8.274      -7.322\n",
       "Rating             3.9807      0.055     72.927      0.000       3.873       4.088\n",
       "Age               -0.6242      0.304     -2.053      0.041      -1.222      -0.026\n",
       "==============================================================================\n",
       "Omnibus:                       15.838   Durbin-Watson:                   1.953\n",
       "Prob(Omnibus):                  0.000   Jarque-Bera (JB):               17.000\n",
       "Skew:                           0.494   Prob(JB):                     0.000203\n",
       "Kurtosis:                       2.793   Cond. No.                     1.66e+03\n",
       "==============================================================================\n",
       "\n",
       "Notes:\n",
       "[1] Standard Errors assume that the covariance matrix of the errors is correctly specified.\n",
       "[2] The condition number is large, 1.66e+03. This might indicate that there are\n",
       "strong multicollinearity or other numerical problems.\n",
       "\"\"\""
      ]
     },
     "execution_count": 32,
     "metadata": {},
     "output_type": "execute_result"
    }
   ],
   "source": [
    "'''Now we fit the model with only parameters that proved to be significant.'''\n",
    "model_1=smf.ols('Balance ~ Income + Rating + Student + Age',data=df).fit()\n",
    "model_1.summary()"
   ]
  },
  {
   "cell_type": "code",
   "execution_count": 33,
   "metadata": {},
   "outputs": [
    {
     "data": {
      "text/plain": [
       "Student\n",
       "No     AxesSubplot(0.59,0.125;0.31x0.18875)\n",
       "Yes    AxesSubplot(0.59,0.125;0.31x0.18875)\n",
       "Name: Age, dtype: object"
      ]
     },
     "execution_count": 33,
     "metadata": {},
     "output_type": "execute_result"
    },
    {
     "data": {
      "image/png": "[encoded data removed]",
      "text/plain": [
       "<Figure size 864x720 with 6 Axes>"
      ]
     },
     "metadata": {
      "needs_background": "light"
     },
     "output_type": "display_data"
    }
   ],
   "source": [
    "#The R-squared value has decreased. So we check the relationships between the above four variables.\n",
    "f, axes = plt.subplots(3, 2, figsize=(12, 10))\n",
    "f.subplots_adjust(hspace=.5, wspace=.5)\n",
    "df.groupby('Student').Income.plot(kind='kde', ax=axes[0][0], legend=True, title='Income by Student')\n",
    "df.groupby('Student').Rating.plot(kind='kde', ax=axes[0][1],legend=True, title='Rating by Student')\n",
    "df.plot(kind='scatter', x='Age' , y='Income' , ax=axes[1][0], title='Income and Age')\n",
    "df.plot(kind='scatter', x='Age' , y='Rating' , ax=axes[1][1], color='orange', title='Rating and Age')\n",
    "df.plot(kind='scatter', x='Rating' , y='Income' , ax=axes[2][0], color='orange', title='Income and Rating')\n",
    "df.groupby('Student').Age.plot(kind='kde', ax=axes[2][1], legend=True, title='Age by Student')"
   ]
  },
  {
   "cell_type": "markdown",
   "metadata": {},
   "source": [
    "Positive relationship between Income and Rating, Students display lower values of Income compared to non-Students, The Income does not Increase with Age, and the Age of Students compared to non-Students does not differ significantly, Now we examine balance and income for students and non-students. We only take into account non-zero balances."
   ]
  },
  {
   "cell_type": "code",
   "execution_count": 34,
   "metadata": {},
   "outputs": [
    {
     "data": {
      "text/plain": [
       "<seaborn.axisgrid.FacetGrid at 0x20fc1ce0340>"
      ]
     },
     "execution_count": 34,
     "metadata": {},
     "output_type": "execute_result"
    },
    {
     "data": {
      "image/png": "[encoded data removed]",
      "text/plain": [
       "<Figure size 720x360 with 2 Axes>"
      ]
     },
     "metadata": {
      "needs_background": "light"
     },
     "output_type": "display_data"
    }
   ],
   "source": [
    "sns.lmplot(x='Income',y='Balance',data=active_balance,line_kws={'color':'black'},lowess=True,col='Student')"
   ]
  },
  {
   "cell_type": "markdown",
   "metadata": {},
   "source": [
    "We can see a positive relation between income and balance however earlier we had seen a negative relationship for non students. Now we check whether the relationship is non-linear."
   ]
  },
  {
   "cell_type": "markdown",
   "metadata": {},
   "source": [
    "## Non-linear relationships"
   ]
  },
  {
   "cell_type": "code",
   "execution_count": 35,
   "metadata": {},
   "outputs": [
    {
     "data": {
      "text/html": [
       "<table class=\"simpletable\">\n",
       "<caption>OLS Regression Results</caption>\n",
       "<tr>\n",
       "  <th>Dep. Variable:</th>         <td>Balance</td>     <th>  R-squared:         </th> <td>   0.951</td> \n",
       "</tr>\n",
       "<tr>\n",
       "  <th>Model:</th>                   <td>OLS</td>       <th>  Adj. R-squared:    </th> <td>   0.950</td> \n",
       "</tr>\n",
       "<tr>\n",
       "  <th>Method:</th>             <td>Least Squares</td>  <th>  F-statistic:       </th> <td>   1524.</td> \n",
       "</tr>\n",
       "<tr>\n",
       "  <th>Date:</th>             <td>Sun, 04 Sep 2022</td> <th>  Prob (F-statistic):</th> <td>3.68e-255</td>\n",
       "</tr>\n",
       "<tr>\n",
       "  <th>Time:</th>                 <td>00:14:20</td>     <th>  Log-Likelihood:    </th> <td> -2416.9</td> \n",
       "</tr>\n",
       "<tr>\n",
       "  <th>No. Observations:</th>      <td>   400</td>      <th>  AIC:               </th> <td>   4846.</td> \n",
       "</tr>\n",
       "<tr>\n",
       "  <th>Df Residuals:</th>          <td>   394</td>      <th>  BIC:               </th> <td>   4870.</td> \n",
       "</tr>\n",
       "<tr>\n",
       "  <th>Df Model:</th>              <td>     5</td>      <th>                     </th>     <td> </td>    \n",
       "</tr>\n",
       "<tr>\n",
       "  <th>Covariance Type:</th>      <td>nonrobust</td>    <th>                     </th>     <td> </td>    \n",
       "</tr>\n",
       "</table>\n",
       "<table class=\"simpletable\">\n",
       "<tr>\n",
       "         <td></td>           <th>coef</th>     <th>std err</th>      <th>t</th>      <th>P>|t|</th>  <th>[0.025</th>    <th>0.975]</th>  \n",
       "</tr>\n",
       "<tr>\n",
       "  <th>Intercept</th>      <td> -527.6722</td> <td>   23.950</td> <td>  -22.032</td> <td> 0.000</td> <td> -574.757</td> <td> -480.587</td>\n",
       "</tr>\n",
       "<tr>\n",
       "  <th>Student[T.Yes]</th> <td>  416.9706</td> <td>   17.124</td> <td>   24.350</td> <td> 0.000</td> <td>  383.305</td> <td>  450.636</td>\n",
       "</tr>\n",
       "<tr>\n",
       "  <th>Income</th>         <td>   -8.6268</td> <td>    0.514</td> <td>  -16.768</td> <td> 0.000</td> <td>   -9.638</td> <td>   -7.615</td>\n",
       "</tr>\n",
       "<tr>\n",
       "  <th>I(Income ** 2)</th> <td>    0.0055</td> <td>    0.003</td> <td>    1.825</td> <td> 0.069</td> <td>   -0.000</td> <td>    0.011</td>\n",
       "</tr>\n",
       "<tr>\n",
       "  <th>Age</th>            <td>   -0.6161</td> <td>    0.303</td> <td>   -2.032</td> <td> 0.043</td> <td>   -1.212</td> <td>   -0.020</td>\n",
       "</tr>\n",
       "<tr>\n",
       "  <th>Rating</th>         <td>    3.9790</td> <td>    0.054</td> <td>   73.098</td> <td> 0.000</td> <td>    3.872</td> <td>    4.086</td>\n",
       "</tr>\n",
       "</table>\n",
       "<table class=\"simpletable\">\n",
       "<tr>\n",
       "  <th>Omnibus:</th>       <td>14.185</td> <th>  Durbin-Watson:     </th> <td>   1.954</td>\n",
       "</tr>\n",
       "<tr>\n",
       "  <th>Prob(Omnibus):</th> <td> 0.001</td> <th>  Jarque-Bera (JB):  </th> <td>  14.920</td>\n",
       "</tr>\n",
       "<tr>\n",
       "  <th>Skew:</th>          <td> 0.456</td> <th>  Prob(JB):          </th> <td>0.000576</td>\n",
       "</tr>\n",
       "<tr>\n",
       "  <th>Kurtosis:</th>      <td> 2.748</td> <th>  Cond. No.          </th> <td>3.05e+04</td>\n",
       "</tr>\n",
       "</table><br/><br/>Notes:<br/>[1] Standard Errors assume that the covariance matrix of the errors is correctly specified.<br/>[2] The condition number is large, 3.05e+04. This might indicate that there are<br/>strong multicollinearity or other numerical problems."
      ],
      "text/plain": [
       "<class 'statsmodels.iolib.summary.Summary'>\n",
       "\"\"\"\n",
       "                            OLS Regression Results                            \n",
       "==============================================================================\n",
       "Dep. Variable:                Balance   R-squared:                       0.951\n",
       "Model:                            OLS   Adj. R-squared:                  0.950\n",
       "Method:                 Least Squares   F-statistic:                     1524.\n",
       "Date:                Sun, 04 Sep 2022   Prob (F-statistic):          3.68e-255\n",
       "Time:                        00:14:20   Log-Likelihood:                -2416.9\n",
       "No. Observations:                 400   AIC:                             4846.\n",
       "Df Residuals:                     394   BIC:                             4870.\n",
       "Df Model:                           5                                         \n",
       "Covariance Type:            nonrobust                                         \n",
       "==================================================================================\n",
       "                     coef    std err          t      P>|t|      [0.025      0.975]\n",
       "----------------------------------------------------------------------------------\n",
       "Intercept       -527.6722     23.950    -22.032      0.000    -574.757    -480.587\n",
       "Student[T.Yes]   416.9706     17.124     24.350      0.000     383.305     450.636\n",
       "Income            -8.6268      0.514    -16.768      0.000      -9.638      -7.615\n",
       "I(Income ** 2)     0.0055      0.003      1.825      0.069      -0.000       0.011\n",
       "Age               -0.6161      0.303     -2.032      0.043      -1.212      -0.020\n",
       "Rating             3.9790      0.054     73.098      0.000       3.872       4.086\n",
       "==============================================================================\n",
       "Omnibus:                       14.185   Durbin-Watson:                   1.954\n",
       "Prob(Omnibus):                  0.001   Jarque-Bera (JB):               14.920\n",
       "Skew:                           0.456   Prob(JB):                     0.000576\n",
       "Kurtosis:                       2.748   Cond. No.                     3.05e+04\n",
       "==============================================================================\n",
       "\n",
       "Notes:\n",
       "[1] Standard Errors assume that the covariance matrix of the errors is correctly specified.\n",
       "[2] The condition number is large, 3.05e+04. This might indicate that there are\n",
       "strong multicollinearity or other numerical problems.\n",
       "\"\"\""
      ]
     },
     "execution_count": 35,
     "metadata": {},
     "output_type": "execute_result"
    }
   ],
   "source": [
    "mod_non_linear = smf.ols('Balance ~ Income + I(Income**2) + Age + Student + Rating', data = df).fit()\n",
    "mod_non_linear.summary()"
   ]
  },
  {
   "cell_type": "markdown",
   "metadata": {},
   "source": [
    "The model has improved and the non-linear term is marginally significant. Additionally, while Income has a negative impact on Balance, Income squared has a slightly positive impact. We expect Balance to have a negative slope initially, and a positive one at higher levels of Income. We can plot this relationship."
   ]
  },
  {
   "cell_type": "code",
   "execution_count": 36,
   "metadata": {},
   "outputs": [
    {
     "name": "stderr",
     "output_type": "stream",
     "text": [
      "C:\\Users\\hp\\anaconda3\\lib\\site-packages\\seaborn\\_decorators.py:36: FutureWarning: Pass the following variables as keyword args: x, y. From version 0.12, the only valid positional argument will be `data`, and passing other arguments without an explicit keyword will result in an error or misinterpretation.\n",
      "  warnings.warn(\n"
     ]
    },
    {
     "data": {
      "text/plain": [
       "<matplotlib.axes._subplots.AxesSubplot at 0x20fc20b6e80>"
      ]
     },
     "execution_count": 36,
     "metadata": {},
     "output_type": "execute_result"
    },
    {
     "data": {
      "image/png": "[encoded data removed]",
      "text/plain": [
       "<Figure size 432x288 with 1 Axes>"
      ]
     },
     "metadata": {
      "needs_background": "light"
     },
     "output_type": "display_data"
    }
   ],
   "source": [
    "sns.regplot('Balance', 'Income',\n",
    "           data = active_balance,\n",
    "            order=2,\n",
    "           line_kws={'color':'black'})"
   ]
  },
  {
   "cell_type": "markdown",
   "metadata": {},
   "source": [
    "As anticipated, at lower levels of Income, increases in personal Income cause a decrease in credit card Balance, which can be interpreted as individuals requiring less financing as they make use of personal finances instead of credit debt.\n",
    "\n",
    "However, at high levels of income, Balance increases, meaning that those individuals are in higher need of loans, potentially due to increased investment activities and a greater risk tolerance."
   ]
  },
  {
   "cell_type": "markdown",
   "metadata": {},
   "source": [
    "## Interaction between various predictors\n"
   ]
  },
  {
   "cell_type": "code",
   "execution_count": 37,
   "metadata": {},
   "outputs": [
    {
     "data": {
      "text/html": [
       "<table class=\"simpletable\">\n",
       "<caption>OLS Regression Results</caption>\n",
       "<tr>\n",
       "  <th>Dep. Variable:</th>         <td>Balance</td>     <th>  R-squared:         </th> <td>   0.957</td> \n",
       "</tr>\n",
       "<tr>\n",
       "  <th>Model:</th>                   <td>OLS</td>       <th>  Adj. R-squared:    </th> <td>   0.956</td> \n",
       "</tr>\n",
       "<tr>\n",
       "  <th>Method:</th>             <td>Least Squares</td>  <th>  F-statistic:       </th> <td>   1458.</td> \n",
       "</tr>\n",
       "<tr>\n",
       "  <th>Date:</th>             <td>Sun, 04 Sep 2022</td> <th>  Prob (F-statistic):</th> <td>5.13e-265</td>\n",
       "</tr>\n",
       "<tr>\n",
       "  <th>Time:</th>                 <td>00:14:21</td>     <th>  Log-Likelihood:    </th> <td> -2390.0</td> \n",
       "</tr>\n",
       "<tr>\n",
       "  <th>No. Observations:</th>      <td>   400</td>      <th>  AIC:               </th> <td>   4794.</td> \n",
       "</tr>\n",
       "<tr>\n",
       "  <th>Df Residuals:</th>          <td>   393</td>      <th>  BIC:               </th> <td>   4822.</td> \n",
       "</tr>\n",
       "<tr>\n",
       "  <th>Df Model:</th>              <td>     6</td>      <th>                     </th>     <td> </td>    \n",
       "</tr>\n",
       "<tr>\n",
       "  <th>Covariance Type:</th>      <td>nonrobust</td>    <th>                     </th>     <td> </td>    \n",
       "</tr>\n",
       "</table>\n",
       "<table class=\"simpletable\">\n",
       "<tr>\n",
       "         <td></td>           <th>coef</th>     <th>std err</th>      <th>t</th>      <th>P>|t|</th>  <th>[0.025</th>    <th>0.975]</th>  \n",
       "</tr>\n",
       "<tr>\n",
       "  <th>Intercept</th>      <td> -429.1239</td> <td>   25.969</td> <td>  -16.524</td> <td> 0.000</td> <td> -480.180</td> <td> -378.068</td>\n",
       "</tr>\n",
       "<tr>\n",
       "  <th>Student[T.Yes]</th> <td>  425.7135</td> <td>   16.073</td> <td>   26.487</td> <td> 0.000</td> <td>  394.114</td> <td>  457.313</td>\n",
       "</tr>\n",
       "<tr>\n",
       "  <th>Income</th>         <td>   -9.0837</td> <td>    0.485</td> <td>  -18.712</td> <td> 0.000</td> <td>  -10.038</td> <td>   -8.129</td>\n",
       "</tr>\n",
       "<tr>\n",
       "  <th>I(Income ** 2)</th> <td>   -0.0329</td> <td>    0.006</td> <td>   -5.638</td> <td> 0.000</td> <td>   -0.044</td> <td>   -0.021</td>\n",
       "</tr>\n",
       "<tr>\n",
       "  <th>Age</th>            <td>   -0.6821</td> <td>    0.284</td> <td>   -2.402</td> <td> 0.017</td> <td>   -1.240</td> <td>   -0.124</td>\n",
       "</tr>\n",
       "<tr>\n",
       "  <th>Rating</th>         <td>    3.4940</td> <td>    0.082</td> <td>   42.515</td> <td> 0.000</td> <td>    3.332</td> <td>    3.656</td>\n",
       "</tr>\n",
       "<tr>\n",
       "  <th>Income:Rating</th>  <td>    0.0110</td> <td>    0.001</td> <td>    7.521</td> <td> 0.000</td> <td>    0.008</td> <td>    0.014</td>\n",
       "</tr>\n",
       "</table>\n",
       "<table class=\"simpletable\">\n",
       "<tr>\n",
       "  <th>Omnibus:</th>       <td> 7.324</td> <th>  Durbin-Watson:     </th> <td>   1.967</td>\n",
       "</tr>\n",
       "<tr>\n",
       "  <th>Prob(Omnibus):</th> <td> 0.026</td> <th>  Jarque-Bera (JB):  </th> <td>   6.374</td>\n",
       "</tr>\n",
       "<tr>\n",
       "  <th>Skew:</th>          <td> 0.237</td> <th>  Prob(JB):          </th> <td>  0.0413</td>\n",
       "</tr>\n",
       "<tr>\n",
       "  <th>Kurtosis:</th>      <td> 2.604</td> <th>  Cond. No.          </th> <td>1.85e+05</td>\n",
       "</tr>\n",
       "</table><br/><br/>Notes:<br/>[1] Standard Errors assume that the covariance matrix of the errors is correctly specified.<br/>[2] The condition number is large, 1.85e+05. This might indicate that there are<br/>strong multicollinearity or other numerical problems."
      ],
      "text/plain": [
       "<class 'statsmodels.iolib.summary.Summary'>\n",
       "\"\"\"\n",
       "                            OLS Regression Results                            \n",
       "==============================================================================\n",
       "Dep. Variable:                Balance   R-squared:                       0.957\n",
       "Model:                            OLS   Adj. R-squared:                  0.956\n",
       "Method:                 Least Squares   F-statistic:                     1458.\n",
       "Date:                Sun, 04 Sep 2022   Prob (F-statistic):          5.13e-265\n",
       "Time:                        00:14:21   Log-Likelihood:                -2390.0\n",
       "No. Observations:                 400   AIC:                             4794.\n",
       "Df Residuals:                     393   BIC:                             4822.\n",
       "Df Model:                           6                                         \n",
       "Covariance Type:            nonrobust                                         \n",
       "==================================================================================\n",
       "                     coef    std err          t      P>|t|      [0.025      0.975]\n",
       "----------------------------------------------------------------------------------\n",
       "Intercept       -429.1239     25.969    -16.524      0.000    -480.180    -378.068\n",
       "Student[T.Yes]   425.7135     16.073     26.487      0.000     394.114     457.313\n",
       "Income            -9.0837      0.485    -18.712      0.000     -10.038      -8.129\n",
       "I(Income ** 2)    -0.0329      0.006     -5.638      0.000      -0.044      -0.021\n",
       "Age               -0.6821      0.284     -2.402      0.017      -1.240      -0.124\n",
       "Rating             3.4940      0.082     42.515      0.000       3.332       3.656\n",
       "Income:Rating      0.0110      0.001      7.521      0.000       0.008       0.014\n",
       "==============================================================================\n",
       "Omnibus:                        7.324   Durbin-Watson:                   1.967\n",
       "Prob(Omnibus):                  0.026   Jarque-Bera (JB):                6.374\n",
       "Skew:                           0.237   Prob(JB):                       0.0413\n",
       "Kurtosis:                       2.604   Cond. No.                     1.85e+05\n",
       "==============================================================================\n",
       "\n",
       "Notes:\n",
       "[1] Standard Errors assume that the covariance matrix of the errors is correctly specified.\n",
       "[2] The condition number is large, 1.85e+05. This might indicate that there are\n",
       "strong multicollinearity or other numerical problems.\n",
       "\"\"\""
      ]
     },
     "execution_count": 37,
     "metadata": {},
     "output_type": "execute_result"
    }
   ],
   "source": [
    "mod_income_rating = smf.ols('Balance ~ Income + I(Income**2) + Age + Student + Income*Rating', data = df).fit()\n",
    "mod_income_rating.summary()"
   ]
  },
  {
   "cell_type": "markdown",
   "metadata": {},
   "source": [
    "Now let us check how the parameters that were originally removed interact with those that are present now. \n",
    "Let us check this for years spent in Education and personal Income.\n"
   ]
  },
  {
   "cell_type": "code",
   "execution_count": 38,
   "metadata": {},
   "outputs": [
    {
     "data": {
      "text/html": [
       "<table class=\"simpletable\">\n",
       "<caption>OLS Regression Results</caption>\n",
       "<tr>\n",
       "  <th>Dep. Variable:</th>         <td>Balance</td>     <th>  R-squared:         </th> <td>   0.951</td> \n",
       "</tr>\n",
       "<tr>\n",
       "  <th>Model:</th>                   <td>OLS</td>       <th>  Adj. R-squared:    </th> <td>   0.951</td> \n",
       "</tr>\n",
       "<tr>\n",
       "  <th>Method:</th>             <td>Least Squares</td>  <th>  F-statistic:       </th> <td>   1096.</td> \n",
       "</tr>\n",
       "<tr>\n",
       "  <th>Date:</th>             <td>Sun, 04 Sep 2022</td> <th>  Prob (F-statistic):</th> <td>5.89e-253</td>\n",
       "</tr>\n",
       "<tr>\n",
       "  <th>Time:</th>                 <td>00:14:21</td>     <th>  Log-Likelihood:    </th> <td> -2414.6</td> \n",
       "</tr>\n",
       "<tr>\n",
       "  <th>No. Observations:</th>      <td>   400</td>      <th>  AIC:               </th> <td>   4845.</td> \n",
       "</tr>\n",
       "<tr>\n",
       "  <th>Df Residuals:</th>          <td>   392</td>      <th>  BIC:               </th> <td>   4877.</td> \n",
       "</tr>\n",
       "<tr>\n",
       "  <th>Df Model:</th>              <td>     7</td>      <th>                     </th>     <td> </td>    \n",
       "</tr>\n",
       "<tr>\n",
       "  <th>Covariance Type:</th>      <td>nonrobust</td>    <th>                     </th>     <td> </td>    \n",
       "</tr>\n",
       "</table>\n",
       "<table class=\"simpletable\">\n",
       "<tr>\n",
       "          <td></td>            <th>coef</th>     <th>std err</th>      <th>t</th>      <th>P>|t|</th>  <th>[0.025</th>    <th>0.975]</th>  \n",
       "</tr>\n",
       "<tr>\n",
       "  <th>Intercept</th>        <td> -455.5497</td> <td>   44.548</td> <td>  -10.226</td> <td> 0.000</td> <td> -543.133</td> <td> -367.966</td>\n",
       "</tr>\n",
       "<tr>\n",
       "  <th>Student[T.Yes]</th>   <td>  416.8402</td> <td>   17.116</td> <td>   24.354</td> <td> 0.000</td> <td>  383.189</td> <td>  450.491</td>\n",
       "</tr>\n",
       "<tr>\n",
       "  <th>Income</th>           <td>   -9.9373</td> <td>    0.807</td> <td>  -12.308</td> <td> 0.000</td> <td>  -11.525</td> <td>   -8.350</td>\n",
       "</tr>\n",
       "<tr>\n",
       "  <th>I(Income ** 2)</th>   <td>    0.0060</td> <td>    0.003</td> <td>    1.977</td> <td> 0.049</td> <td> 3.17e-05</td> <td>    0.012</td>\n",
       "</tr>\n",
       "<tr>\n",
       "  <th>Rating</th>           <td>    3.9711</td> <td>    0.054</td> <td>   73.019</td> <td> 0.000</td> <td>    3.864</td> <td>    4.078</td>\n",
       "</tr>\n",
       "<tr>\n",
       "  <th>Age</th>              <td>   -0.6240</td> <td>    0.302</td> <td>   -2.064</td> <td> 0.040</td> <td>   -1.218</td> <td>   -0.030</td>\n",
       "</tr>\n",
       "<tr>\n",
       "  <th>Education</th>        <td>   -5.0695</td> <td>    2.673</td> <td>   -1.897</td> <td> 0.059</td> <td>  -10.324</td> <td>    0.185</td>\n",
       "</tr>\n",
       "<tr>\n",
       "  <th>Education:Income</th> <td>    0.0943</td> <td>    0.045</td> <td>    2.091</td> <td> 0.037</td> <td>    0.006</td> <td>    0.183</td>\n",
       "</tr>\n",
       "</table>\n",
       "<table class=\"simpletable\">\n",
       "<tr>\n",
       "  <th>Omnibus:</th>       <td>13.655</td> <th>  Durbin-Watson:     </th> <td>   1.959</td>\n",
       "</tr>\n",
       "<tr>\n",
       "  <th>Prob(Omnibus):</th> <td> 0.001</td> <th>  Jarque-Bera (JB):  </th> <td>  14.400</td>\n",
       "</tr>\n",
       "<tr>\n",
       "  <th>Skew:</th>          <td> 0.450</td> <th>  Prob(JB):          </th> <td>0.000747</td>\n",
       "</tr>\n",
       "<tr>\n",
       "  <th>Kurtosis:</th>      <td> 2.771</td> <th>  Cond. No.          </th> <td>5.70e+04</td>\n",
       "</tr>\n",
       "</table><br/><br/>Notes:<br/>[1] Standard Errors assume that the covariance matrix of the errors is correctly specified.<br/>[2] The condition number is large, 5.7e+04. This might indicate that there are<br/>strong multicollinearity or other numerical problems."
      ],
      "text/plain": [
       "<class 'statsmodels.iolib.summary.Summary'>\n",
       "\"\"\"\n",
       "                            OLS Regression Results                            \n",
       "==============================================================================\n",
       "Dep. Variable:                Balance   R-squared:                       0.951\n",
       "Model:                            OLS   Adj. R-squared:                  0.951\n",
       "Method:                 Least Squares   F-statistic:                     1096.\n",
       "Date:                Sun, 04 Sep 2022   Prob (F-statistic):          5.89e-253\n",
       "Time:                        00:14:21   Log-Likelihood:                -2414.6\n",
       "No. Observations:                 400   AIC:                             4845.\n",
       "Df Residuals:                     392   BIC:                             4877.\n",
       "Df Model:                           7                                         \n",
       "Covariance Type:            nonrobust                                         \n",
       "====================================================================================\n",
       "                       coef    std err          t      P>|t|      [0.025      0.975]\n",
       "------------------------------------------------------------------------------------\n",
       "Intercept         -455.5497     44.548    -10.226      0.000    -543.133    -367.966\n",
       "Student[T.Yes]     416.8402     17.116     24.354      0.000     383.189     450.491\n",
       "Income              -9.9373      0.807    -12.308      0.000     -11.525      -8.350\n",
       "I(Income ** 2)       0.0060      0.003      1.977      0.049    3.17e-05       0.012\n",
       "Rating               3.9711      0.054     73.019      0.000       3.864       4.078\n",
       "Age                 -0.6240      0.302     -2.064      0.040      -1.218      -0.030\n",
       "Education           -5.0695      2.673     -1.897      0.059     -10.324       0.185\n",
       "Education:Income     0.0943      0.045      2.091      0.037       0.006       0.183\n",
       "==============================================================================\n",
       "Omnibus:                       13.655   Durbin-Watson:                   1.959\n",
       "Prob(Omnibus):                  0.001   Jarque-Bera (JB):               14.400\n",
       "Skew:                           0.450   Prob(JB):                     0.000747\n",
       "Kurtosis:                       2.771   Cond. No.                     5.70e+04\n",
       "==============================================================================\n",
       "\n",
       "Notes:\n",
       "[1] Standard Errors assume that the covariance matrix of the errors is correctly specified.\n",
       "[2] The condition number is large, 5.7e+04. This might indicate that there are\n",
       "strong multicollinearity or other numerical problems.\n",
       "\"\"\""
      ]
     },
     "execution_count": 38,
     "metadata": {},
     "output_type": "execute_result"
    }
   ],
   "source": [
    "model_education_income = smf.ols('Balance ~ Income + I(Income**2) + Rating + Age + Student + Education*Income', data=df).fit()\n",
    "model_education_income.summary()"
   ]
  },
  {
   "cell_type": "markdown",
   "metadata": {},
   "source": [
    "Earlier we thought that education wasn't significant but we can see that it interacts with Income significantly. Let su check between marriage and age also."
   ]
  },
  {
   "cell_type": "code",
   "execution_count": 39,
   "metadata": {},
   "outputs": [
    {
     "data": {
      "text/html": [
       "<table class=\"simpletable\">\n",
       "<caption>OLS Regression Results</caption>\n",
       "<tr>\n",
       "  <th>Dep. Variable:</th>         <td>Balance</td>     <th>  R-squared:         </th> <td>   0.952</td> \n",
       "</tr>\n",
       "<tr>\n",
       "  <th>Model:</th>                   <td>OLS</td>       <th>  Adj. R-squared:    </th> <td>   0.951</td> \n",
       "</tr>\n",
       "<tr>\n",
       "  <th>Method:</th>             <td>Least Squares</td>  <th>  F-statistic:       </th> <td>   1101.</td> \n",
       "</tr>\n",
       "<tr>\n",
       "  <th>Date:</th>             <td>Sun, 04 Sep 2022</td> <th>  Prob (F-statistic):</th> <td>2.35e-253</td>\n",
       "</tr>\n",
       "<tr>\n",
       "  <th>Time:</th>                 <td>00:14:21</td>     <th>  Log-Likelihood:    </th> <td> -2413.6</td> \n",
       "</tr>\n",
       "<tr>\n",
       "  <th>No. Observations:</th>      <td>   400</td>      <th>  AIC:               </th> <td>   4843.</td> \n",
       "</tr>\n",
       "<tr>\n",
       "  <th>Df Residuals:</th>          <td>   392</td>      <th>  BIC:               </th> <td>   4875.</td> \n",
       "</tr>\n",
       "<tr>\n",
       "  <th>Df Model:</th>              <td>     7</td>      <th>                     </th>     <td> </td>    \n",
       "</tr>\n",
       "<tr>\n",
       "  <th>Covariance Type:</th>      <td>nonrobust</td>    <th>                     </th>     <td> </td>    \n",
       "</tr>\n",
       "</table>\n",
       "<table class=\"simpletable\">\n",
       "<tr>\n",
       "           <td></td>             <th>coef</th>     <th>std err</th>      <th>t</th>      <th>P>|t|</th>  <th>[0.025</th>    <th>0.975]</th>  \n",
       "</tr>\n",
       "<tr>\n",
       "  <th>Student[No]</th>        <td> -561.6504</td> <td>   32.973</td> <td>  -17.033</td> <td> 0.000</td> <td> -626.477</td> <td> -496.823</td>\n",
       "</tr>\n",
       "<tr>\n",
       "  <th>Student[Yes]</th>       <td> -144.2699</td> <td>   34.942</td> <td>   -4.129</td> <td> 0.000</td> <td> -212.966</td> <td>  -75.573</td>\n",
       "</tr>\n",
       "<tr>\n",
       "  <th>Married[T.Yes]</th>     <td>   58.2726</td> <td>   35.992</td> <td>    1.619</td> <td> 0.106</td> <td>  -12.489</td> <td>  129.035</td>\n",
       "</tr>\n",
       "<tr>\n",
       "  <th>Income</th>             <td>   -8.6631</td> <td>    0.512</td> <td>  -16.924</td> <td> 0.000</td> <td>   -9.670</td> <td>   -7.657</td>\n",
       "</tr>\n",
       "<tr>\n",
       "  <th>I(Income ** 2)</th>     <td>    0.0059</td> <td>    0.003</td> <td>    1.949</td> <td> 0.052</td> <td>-5.12e-05</td> <td>    0.012</td>\n",
       "</tr>\n",
       "<tr>\n",
       "  <th>Rating</th>             <td>    3.9786</td> <td>    0.054</td> <td>   73.496</td> <td> 0.000</td> <td>    3.872</td> <td>    4.085</td>\n",
       "</tr>\n",
       "<tr>\n",
       "  <th>Age</th>                <td>    0.1420</td> <td>    0.481</td> <td>    0.295</td> <td> 0.768</td> <td>   -0.804</td> <td>    1.088</td>\n",
       "</tr>\n",
       "<tr>\n",
       "  <th>Married[T.Yes]:Age</th> <td>   -1.2944</td> <td>    0.611</td> <td>   -2.118</td> <td> 0.035</td> <td>   -2.496</td> <td>   -0.093</td>\n",
       "</tr>\n",
       "</table>\n",
       "<table class=\"simpletable\">\n",
       "<tr>\n",
       "  <th>Omnibus:</th>       <td>12.889</td> <th>  Durbin-Watson:     </th> <td>   1.958</td>\n",
       "</tr>\n",
       "<tr>\n",
       "  <th>Prob(Omnibus):</th> <td> 0.002</td> <th>  Jarque-Bera (JB):  </th> <td>  13.569</td>\n",
       "</tr>\n",
       "<tr>\n",
       "  <th>Skew:</th>          <td> 0.438</td> <th>  Prob(JB):          </th> <td> 0.00113</td>\n",
       "</tr>\n",
       "<tr>\n",
       "  <th>Kurtosis:</th>      <td> 2.786</td> <th>  Cond. No.          </th> <td>6.89e+04</td>\n",
       "</tr>\n",
       "</table><br/><br/>Notes:<br/>[1] Standard Errors assume that the covariance matrix of the errors is correctly specified.<br/>[2] The condition number is large, 6.89e+04. This might indicate that there are<br/>strong multicollinearity or other numerical problems."
      ],
      "text/plain": [
       "<class 'statsmodels.iolib.summary.Summary'>\n",
       "\"\"\"\n",
       "                            OLS Regression Results                            \n",
       "==============================================================================\n",
       "Dep. Variable:                Balance   R-squared:                       0.952\n",
       "Model:                            OLS   Adj. R-squared:                  0.951\n",
       "Method:                 Least Squares   F-statistic:                     1101.\n",
       "Date:                Sun, 04 Sep 2022   Prob (F-statistic):          2.35e-253\n",
       "Time:                        00:14:21   Log-Likelihood:                -2413.6\n",
       "No. Observations:                 400   AIC:                             4843.\n",
       "Df Residuals:                     392   BIC:                             4875.\n",
       "Df Model:                           7                                         \n",
       "Covariance Type:            nonrobust                                         \n",
       "======================================================================================\n",
       "                         coef    std err          t      P>|t|      [0.025      0.975]\n",
       "--------------------------------------------------------------------------------------\n",
       "Student[No]         -561.6504     32.973    -17.033      0.000    -626.477    -496.823\n",
       "Student[Yes]        -144.2699     34.942     -4.129      0.000    -212.966     -75.573\n",
       "Married[T.Yes]        58.2726     35.992      1.619      0.106     -12.489     129.035\n",
       "Income                -8.6631      0.512    -16.924      0.000      -9.670      -7.657\n",
       "I(Income ** 2)         0.0059      0.003      1.949      0.052   -5.12e-05       0.012\n",
       "Rating                 3.9786      0.054     73.496      0.000       3.872       4.085\n",
       "Age                    0.1420      0.481      0.295      0.768      -0.804       1.088\n",
       "Married[T.Yes]:Age    -1.2944      0.611     -2.118      0.035      -2.496      -0.093\n",
       "==============================================================================\n",
       "Omnibus:                       12.889   Durbin-Watson:                   1.958\n",
       "Prob(Omnibus):                  0.002   Jarque-Bera (JB):               13.569\n",
       "Skew:                           0.438   Prob(JB):                      0.00113\n",
       "Kurtosis:                       2.786   Cond. No.                     6.89e+04\n",
       "==============================================================================\n",
       "\n",
       "Notes:\n",
       "[1] Standard Errors assume that the covariance matrix of the errors is correctly specified.\n",
       "[2] The condition number is large, 6.89e+04. This might indicate that there are\n",
       "strong multicollinearity or other numerical problems.\n",
       "\"\"\""
      ]
     },
     "execution_count": 39,
     "metadata": {},
     "output_type": "execute_result"
    }
   ],
   "source": [
    "model_marriage_age = smf.ols('Balance ~ Income + I(Income**2) + Rating + Age + Student + Married*Age -1', data=df).fit()\n",
    "model_marriage_age.summary()"
   ]
  },
  {
   "cell_type": "markdown",
   "metadata": {},
   "source": [
    "While neither Married nor Age by themselves are significant, the interaction term is. This reveals the fact that individuals with higher values for Age who are also Married have lower credit card Balances pointing to higher financial prudence or risk aversion. We can visualize this relationship."
   ]
  },
  {
   "cell_type": "code",
   "execution_count": 40,
   "metadata": {},
   "outputs": [
    {
     "data": {
      "image/png": "[encoded data removed]",
      "text/plain": [
       "<Figure size 412x360 with 1 Axes>"
      ]
     },
     "metadata": {
      "needs_background": "light"
     },
     "output_type": "display_data"
    }
   ],
   "source": [
    "sns.lmplot(x=\"Age\", \n",
    "           y=\"Balance\", \n",
    "           hue=\"Married\", \n",
    "           data=active_balance);"
   ]
  },
  {
   "cell_type": "markdown",
   "metadata": {},
   "source": [
    "We see that individuals who are married have lower credit balance with age while non married people have higher credit balance."
   ]
  },
  {
   "cell_type": "markdown",
   "metadata": {},
   "source": [
    "Let us also check gender and no. of credit cards and the relationship between them."
   ]
  },
  {
   "cell_type": "code",
   "execution_count": 41,
   "metadata": {},
   "outputs": [
    {
     "data": {
      "text/html": [
       "<table class=\"simpletable\">\n",
       "<caption>OLS Regression Results</caption>\n",
       "<tr>\n",
       "  <th>Dep. Variable:</th>         <td>Balance</td>     <th>  R-squared:         </th> <td>   0.952</td> \n",
       "</tr>\n",
       "<tr>\n",
       "  <th>Model:</th>                   <td>OLS</td>       <th>  Adj. R-squared:    </th> <td>   0.951</td> \n",
       "</tr>\n",
       "<tr>\n",
       "  <th>Method:</th>             <td>Least Squares</td>  <th>  F-statistic:       </th> <td>   961.4</td> \n",
       "</tr>\n",
       "<tr>\n",
       "  <th>Date:</th>             <td>Sun, 04 Sep 2022</td> <th>  Prob (F-statistic):</th> <td>7.75e-252</td>\n",
       "</tr>\n",
       "<tr>\n",
       "  <th>Time:</th>                 <td>00:14:22</td>     <th>  Log-Likelihood:    </th> <td> -2413.6</td> \n",
       "</tr>\n",
       "<tr>\n",
       "  <th>No. Observations:</th>      <td>   400</td>      <th>  AIC:               </th> <td>   4845.</td> \n",
       "</tr>\n",
       "<tr>\n",
       "  <th>Df Residuals:</th>          <td>   391</td>      <th>  BIC:               </th> <td>   4881.</td> \n",
       "</tr>\n",
       "<tr>\n",
       "  <th>Df Model:</th>              <td>     8</td>      <th>                     </th>     <td> </td>    \n",
       "</tr>\n",
       "<tr>\n",
       "  <th>Covariance Type:</th>      <td>nonrobust</td>    <th>                     </th>     <td> </td>    \n",
       "</tr>\n",
       "</table>\n",
       "<table class=\"simpletable\">\n",
       "<tr>\n",
       "             <td></td>               <th>coef</th>     <th>std err</th>      <th>t</th>      <th>P>|t|</th>  <th>[0.025</th>    <th>0.975]</th>  \n",
       "</tr>\n",
       "<tr>\n",
       "  <th>Intercept</th>              <td> -505.5063</td> <td>   29.280</td> <td>  -17.264</td> <td> 0.000</td> <td> -563.073</td> <td> -447.939</td>\n",
       "</tr>\n",
       "<tr>\n",
       "  <th>Student[T.Yes]</th>         <td>  414.7916</td> <td>   17.165</td> <td>   24.165</td> <td> 0.000</td> <td>  381.045</td> <td>  448.538</td>\n",
       "</tr>\n",
       "<tr>\n",
       "  <th>Gender[T.Female]</th>       <td>  -56.9505</td> <td>   24.573</td> <td>   -2.318</td> <td> 0.021</td> <td> -105.262</td> <td>   -8.639</td>\n",
       "</tr>\n",
       "<tr>\n",
       "  <th>Income</th>                 <td>   -8.6253</td> <td>    0.514</td> <td>  -16.766</td> <td> 0.000</td> <td>   -9.637</td> <td>   -7.614</td>\n",
       "</tr>\n",
       "<tr>\n",
       "  <th>I(Income ** 2)</th>         <td>    0.0058</td> <td>    0.003</td> <td>    1.932</td> <td> 0.054</td> <td>   -0.000</td> <td>    0.012</td>\n",
       "</tr>\n",
       "<tr>\n",
       "  <th>Rating</th>                 <td>    3.9674</td> <td>    0.055</td> <td>   72.561</td> <td> 0.000</td> <td>    3.860</td> <td>    4.075</td>\n",
       "</tr>\n",
       "<tr>\n",
       "  <th>Age</th>                    <td>   -0.6826</td> <td>    0.303</td> <td>   -2.250</td> <td> 0.025</td> <td>   -1.279</td> <td>   -0.086</td>\n",
       "</tr>\n",
       "<tr>\n",
       "  <th>Cards</th>                  <td>   -3.2603</td> <td>    5.083</td> <td>   -0.641</td> <td> 0.522</td> <td>  -13.254</td> <td>    6.734</td>\n",
       "</tr>\n",
       "<tr>\n",
       "  <th>Gender[T.Female]:Cards</th> <td>   15.7543</td> <td>    7.584</td> <td>    2.077</td> <td> 0.038</td> <td>    0.843</td> <td>   30.666</td>\n",
       "</tr>\n",
       "</table>\n",
       "<table class=\"simpletable\">\n",
       "<tr>\n",
       "  <th>Omnibus:</th>       <td>13.489</td> <th>  Durbin-Watson:     </th> <td>   1.972</td>\n",
       "</tr>\n",
       "<tr>\n",
       "  <th>Prob(Omnibus):</th> <td> 0.001</td> <th>  Jarque-Bera (JB):  </th> <td>  14.150</td>\n",
       "</tr>\n",
       "<tr>\n",
       "  <th>Skew:</th>          <td> 0.444</td> <th>  Prob(JB):          </th> <td>0.000846</td>\n",
       "</tr>\n",
       "<tr>\n",
       "  <th>Kurtosis:</th>      <td> 2.755</td> <th>  Cond. No.          </th> <td>4.30e+04</td>\n",
       "</tr>\n",
       "</table><br/><br/>Notes:<br/>[1] Standard Errors assume that the covariance matrix of the errors is correctly specified.<br/>[2] The condition number is large, 4.3e+04. This might indicate that there are<br/>strong multicollinearity or other numerical problems."
      ],
      "text/plain": [
       "<class 'statsmodels.iolib.summary.Summary'>\n",
       "\"\"\"\n",
       "                            OLS Regression Results                            \n",
       "==============================================================================\n",
       "Dep. Variable:                Balance   R-squared:                       0.952\n",
       "Model:                            OLS   Adj. R-squared:                  0.951\n",
       "Method:                 Least Squares   F-statistic:                     961.4\n",
       "Date:                Sun, 04 Sep 2022   Prob (F-statistic):          7.75e-252\n",
       "Time:                        00:14:22   Log-Likelihood:                -2413.6\n",
       "No. Observations:                 400   AIC:                             4845.\n",
       "Df Residuals:                     391   BIC:                             4881.\n",
       "Df Model:                           8                                         \n",
       "Covariance Type:            nonrobust                                         \n",
       "==========================================================================================\n",
       "                             coef    std err          t      P>|t|      [0.025      0.975]\n",
       "------------------------------------------------------------------------------------------\n",
       "Intercept               -505.5063     29.280    -17.264      0.000    -563.073    -447.939\n",
       "Student[T.Yes]           414.7916     17.165     24.165      0.000     381.045     448.538\n",
       "Gender[T.Female]         -56.9505     24.573     -2.318      0.021    -105.262      -8.639\n",
       "Income                    -8.6253      0.514    -16.766      0.000      -9.637      -7.614\n",
       "I(Income ** 2)             0.0058      0.003      1.932      0.054      -0.000       0.012\n",
       "Rating                     3.9674      0.055     72.561      0.000       3.860       4.075\n",
       "Age                       -0.6826      0.303     -2.250      0.025      -1.279      -0.086\n",
       "Cards                     -3.2603      5.083     -0.641      0.522     -13.254       6.734\n",
       "Gender[T.Female]:Cards    15.7543      7.584      2.077      0.038       0.843      30.666\n",
       "==============================================================================\n",
       "Omnibus:                       13.489   Durbin-Watson:                   1.972\n",
       "Prob(Omnibus):                  0.001   Jarque-Bera (JB):               14.150\n",
       "Skew:                           0.444   Prob(JB):                     0.000846\n",
       "Kurtosis:                       2.755   Cond. No.                     4.30e+04\n",
       "==============================================================================\n",
       "\n",
       "Notes:\n",
       "[1] Standard Errors assume that the covariance matrix of the errors is correctly specified.\n",
       "[2] The condition number is large, 4.3e+04. This might indicate that there are\n",
       "strong multicollinearity or other numerical problems.\n",
       "\"\"\""
      ]
     },
     "execution_count": 41,
     "metadata": {},
     "output_type": "execute_result"
    }
   ],
   "source": [
    "model_gender_cards = smf.ols('Balance ~ Income + I(Income**2) + Rating + Age + Student + Gender*Cards', data=df).fit()\n",
    "model_gender_cards.summary()"
   ]
  },
  {
   "cell_type": "code",
   "execution_count": 42,
   "metadata": {},
   "outputs": [
    {
     "data": {
      "image/png": "[encoded data removed]",
      "text/plain": [
       "<Figure size 432.125x360 with 1 Axes>"
      ]
     },
     "metadata": {
      "needs_background": "light"
     },
     "output_type": "display_data"
    }
   ],
   "source": [
    "sns.lmplot(x=\"Cards\", \n",
    "           y=\"Balance\", \n",
    "           hue=\"Gender\", \n",
    "           ci=None,\n",
    "           data=active_balance);"
   ]
  },
  {
   "cell_type": "markdown",
   "metadata": {},
   "source": [
    "The interaction between Gender and Cards is significant with a high coefficient, which demonstrates that Females who own more Cards have on average higher Balance. In this dataset we make the assumption that the Balance is recorded per person and not per credit card, implying that the balance recorded is calculated as an average across all the cards belonging to the same individual. We also see that Gender in isolation has a negative impact on Balance, suggesting that females, in general, have less credit card debt, except when that individual also owns multiple Cards.\n",
    "\n"
   ]
  },
  {
   "cell_type": "markdown",
   "metadata": {},
   "source": [
    "## Finding the best model"
   ]
  },
  {
   "cell_type": "markdown",
   "metadata": {},
   "source": [
    "We know that higher the R-squared value is, better our model fits. We see that the R-squared value is the highest in the model which included a polynomial relationship between Income and Balance and an interaction term between Income and Rating. Let's focus on the active dataset for now."
   ]
  },
  {
   "cell_type": "code",
   "execution_count": 43,
   "metadata": {},
   "outputs": [
    {
     "data": {
      "text/html": [
       "<table class=\"simpletable\">\n",
       "<caption>OLS Regression Results</caption>\n",
       "<tr>\n",
       "  <th>Dep. Variable:</th>         <td>Balance</td>     <th>  R-squared:         </th> <td>   0.984</td> \n",
       "</tr>\n",
       "<tr>\n",
       "  <th>Model:</th>                   <td>OLS</td>       <th>  Adj. R-squared:    </th> <td>   0.984</td> \n",
       "</tr>\n",
       "<tr>\n",
       "  <th>Method:</th>             <td>Least Squares</td>  <th>  F-statistic:       </th> <td>   3170.</td> \n",
       "</tr>\n",
       "<tr>\n",
       "  <th>Date:</th>             <td>Sun, 04 Sep 2022</td> <th>  Prob (F-statistic):</th> <td>4.43e-270</td>\n",
       "</tr>\n",
       "<tr>\n",
       "  <th>Time:</th>                 <td>00:14:22</td>     <th>  Log-Likelihood:    </th> <td> -1663.2</td> \n",
       "</tr>\n",
       "<tr>\n",
       "  <th>No. Observations:</th>      <td>   310</td>      <th>  AIC:               </th> <td>   3340.</td> \n",
       "</tr>\n",
       "<tr>\n",
       "  <th>Df Residuals:</th>          <td>   303</td>      <th>  BIC:               </th> <td>   3367.</td> \n",
       "</tr>\n",
       "<tr>\n",
       "  <th>Df Model:</th>              <td>     6</td>      <th>                     </th>     <td> </td>    \n",
       "</tr>\n",
       "<tr>\n",
       "  <th>Covariance Type:</th>      <td>nonrobust</td>    <th>                     </th>     <td> </td>    \n",
       "</tr>\n",
       "</table>\n",
       "<table class=\"simpletable\">\n",
       "<tr>\n",
       "         <td></td>           <th>coef</th>     <th>std err</th>      <th>t</th>      <th>P>|t|</th>  <th>[0.025</th>    <th>0.975]</th>  \n",
       "</tr>\n",
       "<tr>\n",
       "  <th>Intercept</th>      <td> -780.4994</td> <td>   20.847</td> <td>  -37.439</td> <td> 0.000</td> <td> -821.523</td> <td> -739.475</td>\n",
       "</tr>\n",
       "<tr>\n",
       "  <th>Student[T.Yes]</th> <td>  482.1976</td> <td>    9.149</td> <td>   52.705</td> <td> 0.000</td> <td>  464.194</td> <td>  500.201</td>\n",
       "</tr>\n",
       "<tr>\n",
       "  <th>Income</th>         <td>   -9.4049</td> <td>    0.290</td> <td>  -32.466</td> <td> 0.000</td> <td>   -9.975</td> <td>   -8.835</td>\n",
       "</tr>\n",
       "<tr>\n",
       "  <th>I(Income ** 2)</th> <td>   -0.0045</td> <td>    0.003</td> <td>   -1.333</td> <td> 0.184</td> <td>   -0.011</td> <td>    0.002</td>\n",
       "</tr>\n",
       "<tr>\n",
       "  <th>Age</th>            <td>   -1.1266</td> <td>    0.177</td> <td>   -6.374</td> <td> 0.000</td> <td>   -1.474</td> <td>   -0.779</td>\n",
       "</tr>\n",
       "<tr>\n",
       "  <th>Rating</th>         <td>    4.7559</td> <td>    0.066</td> <td>   72.197</td> <td> 0.000</td> <td>    4.626</td> <td>    4.886</td>\n",
       "</tr>\n",
       "<tr>\n",
       "  <th>Income:Rating</th>  <td>    0.0006</td> <td>    0.001</td> <td>    0.658</td> <td> 0.511</td> <td>   -0.001</td> <td>    0.002</td>\n",
       "</tr>\n",
       "</table>\n",
       "<table class=\"simpletable\">\n",
       "<tr>\n",
       "  <th>Omnibus:</th>       <td> 2.411</td> <th>  Durbin-Watson:     </th> <td>   1.956</td>\n",
       "</tr>\n",
       "<tr>\n",
       "  <th>Prob(Omnibus):</th> <td> 0.300</td> <th>  Jarque-Bera (JB):  </th> <td>   2.335</td>\n",
       "</tr>\n",
       "<tr>\n",
       "  <th>Skew:</th>          <td>-0.152</td> <th>  Prob(JB):          </th> <td>   0.311</td>\n",
       "</tr>\n",
       "<tr>\n",
       "  <th>Kurtosis:</th>      <td> 2.703</td> <th>  Cond. No.          </th> <td>2.72e+05</td>\n",
       "</tr>\n",
       "</table><br/><br/>Notes:<br/>[1] Standard Errors assume that the covariance matrix of the errors is correctly specified.<br/>[2] The condition number is large, 2.72e+05. This might indicate that there are<br/>strong multicollinearity or other numerical problems."
      ],
      "text/plain": [
       "<class 'statsmodels.iolib.summary.Summary'>\n",
       "\"\"\"\n",
       "                            OLS Regression Results                            \n",
       "==============================================================================\n",
       "Dep. Variable:                Balance   R-squared:                       0.984\n",
       "Model:                            OLS   Adj. R-squared:                  0.984\n",
       "Method:                 Least Squares   F-statistic:                     3170.\n",
       "Date:                Sun, 04 Sep 2022   Prob (F-statistic):          4.43e-270\n",
       "Time:                        00:14:22   Log-Likelihood:                -1663.2\n",
       "No. Observations:                 310   AIC:                             3340.\n",
       "Df Residuals:                     303   BIC:                             3367.\n",
       "Df Model:                           6                                         \n",
       "Covariance Type:            nonrobust                                         \n",
       "==================================================================================\n",
       "                     coef    std err          t      P>|t|      [0.025      0.975]\n",
       "----------------------------------------------------------------------------------\n",
       "Intercept       -780.4994     20.847    -37.439      0.000    -821.523    -739.475\n",
       "Student[T.Yes]   482.1976      9.149     52.705      0.000     464.194     500.201\n",
       "Income            -9.4049      0.290    -32.466      0.000      -9.975      -8.835\n",
       "I(Income ** 2)    -0.0045      0.003     -1.333      0.184      -0.011       0.002\n",
       "Age               -1.1266      0.177     -6.374      0.000      -1.474      -0.779\n",
       "Rating             4.7559      0.066     72.197      0.000       4.626       4.886\n",
       "Income:Rating      0.0006      0.001      0.658      0.511      -0.001       0.002\n",
       "==============================================================================\n",
       "Omnibus:                        2.411   Durbin-Watson:                   1.956\n",
       "Prob(Omnibus):                  0.300   Jarque-Bera (JB):                2.335\n",
       "Skew:                          -0.152   Prob(JB):                        0.311\n",
       "Kurtosis:                       2.703   Cond. No.                     2.72e+05\n",
       "==============================================================================\n",
       "\n",
       "Notes:\n",
       "[1] Standard Errors assume that the covariance matrix of the errors is correctly specified.\n",
       "[2] The condition number is large, 2.72e+05. This might indicate that there are\n",
       "strong multicollinearity or other numerical problems.\n",
       "\"\"\""
      ]
     },
     "execution_count": 43,
     "metadata": {},
     "output_type": "execute_result"
    }
   ],
   "source": [
    "mod_income_rating_active = smf.ols('Balance ~ Income + I(Income**2) + Age + Student + Income*Rating', data = active_balance).fit()\n",
    "mod_income_rating_active.summary()"
   ]
  },
  {
   "cell_type": "code",
   "execution_count": 44,
   "metadata": {},
   "outputs": [
    {
     "data": {
      "text/html": [
       "<table class=\"simpletable\">\n",
       "<caption>OLS Regression Results</caption>\n",
       "<tr>\n",
       "  <th>Dep. Variable:</th>         <td>Balance</td>     <th>  R-squared:         </th> <td>   0.999</td> \n",
       "</tr>\n",
       "<tr>\n",
       "  <th>Model:</th>                   <td>OLS</td>       <th>  Adj. R-squared:    </th> <td>   0.999</td> \n",
       "</tr>\n",
       "<tr>\n",
       "  <th>Method:</th>             <td>Least Squares</td>  <th>  F-statistic:       </th> <td>6.055e+04</td>\n",
       "</tr>\n",
       "<tr>\n",
       "  <th>Date:</th>             <td>Sun, 04 Sep 2022</td> <th>  Prob (F-statistic):</th>  <td>  0.00</td>  \n",
       "</tr>\n",
       "<tr>\n",
       "  <th>Time:</th>                 <td>00:14:22</td>     <th>  Log-Likelihood:    </th> <td> -1162.8</td> \n",
       "</tr>\n",
       "<tr>\n",
       "  <th>No. Observations:</th>      <td>   310</td>      <th>  AIC:               </th> <td>   2344.</td> \n",
       "</tr>\n",
       "<tr>\n",
       "  <th>Df Residuals:</th>          <td>   301</td>      <th>  BIC:               </th> <td>   2377.</td> \n",
       "</tr>\n",
       "<tr>\n",
       "  <th>Df Model:</th>              <td>     8</td>      <th>                     </th>     <td> </td>    \n",
       "</tr>\n",
       "<tr>\n",
       "  <th>Covariance Type:</th>      <td>nonrobust</td>    <th>                     </th>     <td> </td>    \n",
       "</tr>\n",
       "</table>\n",
       "<table class=\"simpletable\">\n",
       "<tr>\n",
       "         <td></td>           <th>coef</th>     <th>std err</th>      <th>t</th>      <th>P>|t|</th>  <th>[0.025</th>    <th>0.975]</th>  \n",
       "</tr>\n",
       "<tr>\n",
       "  <th>Intercept</th>      <td> -703.2401</td> <td>    4.420</td> <td> -159.097</td> <td> 0.000</td> <td> -711.938</td> <td> -694.542</td>\n",
       "</tr>\n",
       "<tr>\n",
       "  <th>Student[T.Yes]</th> <td>  501.1326</td> <td>    1.840</td> <td>  272.316</td> <td> 0.000</td> <td>  497.511</td> <td>  504.754</td>\n",
       "</tr>\n",
       "<tr>\n",
       "  <th>Income</th>         <td>   -9.9745</td> <td>    0.059</td> <td> -170.261</td> <td> 0.000</td> <td>  -10.090</td> <td>   -9.859</td>\n",
       "</tr>\n",
       "<tr>\n",
       "  <th>I(Income ** 2)</th> <td>    0.0011</td> <td>    0.001</td> <td>    1.657</td> <td> 0.099</td> <td>   -0.000</td> <td>    0.002</td>\n",
       "</tr>\n",
       "<tr>\n",
       "  <th>Age</th>            <td>   -1.0007</td> <td>    0.035</td> <td>  -28.305</td> <td> 0.000</td> <td>   -1.070</td> <td>   -0.931</td>\n",
       "</tr>\n",
       "<tr>\n",
       "  <th>Rating</th>         <td>   -0.1370</td> <td>    0.059</td> <td>   -2.325</td> <td> 0.021</td> <td>   -0.253</td> <td>   -0.021</td>\n",
       "</tr>\n",
       "<tr>\n",
       "  <th>Income:Rating</th>  <td>   -0.0003</td> <td>    0.000</td> <td>   -1.889</td> <td> 0.060</td> <td>   -0.001</td> <td> 1.44e-05</td>\n",
       "</tr>\n",
       "<tr>\n",
       "  <th>Limit</th>          <td>    0.3370</td> <td>    0.004</td> <td>   85.120</td> <td> 0.000</td> <td>    0.329</td> <td>    0.345</td>\n",
       "</tr>\n",
       "<tr>\n",
       "  <th>Cards</th>          <td>   25.5326</td> <td>    0.496</td> <td>   51.444</td> <td> 0.000</td> <td>   24.556</td> <td>   26.509</td>\n",
       "</tr>\n",
       "</table>\n",
       "<table class=\"simpletable\">\n",
       "<tr>\n",
       "  <th>Omnibus:</th>       <td> 4.113</td> <th>  Durbin-Watson:     </th> <td>   2.038</td>\n",
       "</tr>\n",
       "<tr>\n",
       "  <th>Prob(Omnibus):</th> <td> 0.128</td> <th>  Jarque-Bera (JB):  </th> <td>   4.093</td>\n",
       "</tr>\n",
       "<tr>\n",
       "  <th>Skew:</th>          <td>-0.281</td> <th>  Prob(JB):          </th> <td>   0.129</td>\n",
       "</tr>\n",
       "<tr>\n",
       "  <th>Kurtosis:</th>      <td> 2.958</td> <th>  Cond. No.          </th> <td>2.91e+05</td>\n",
       "</tr>\n",
       "</table><br/><br/>Notes:<br/>[1] Standard Errors assume that the covariance matrix of the errors is correctly specified.<br/>[2] The condition number is large, 2.91e+05. This might indicate that there are<br/>strong multicollinearity or other numerical problems."
      ],
      "text/plain": [
       "<class 'statsmodels.iolib.summary.Summary'>\n",
       "\"\"\"\n",
       "                            OLS Regression Results                            \n",
       "==============================================================================\n",
       "Dep. Variable:                Balance   R-squared:                       0.999\n",
       "Model:                            OLS   Adj. R-squared:                  0.999\n",
       "Method:                 Least Squares   F-statistic:                 6.055e+04\n",
       "Date:                Sun, 04 Sep 2022   Prob (F-statistic):               0.00\n",
       "Time:                        00:14:22   Log-Likelihood:                -1162.8\n",
       "No. Observations:                 310   AIC:                             2344.\n",
       "Df Residuals:                     301   BIC:                             2377.\n",
       "Df Model:                           8                                         \n",
       "Covariance Type:            nonrobust                                         \n",
       "==================================================================================\n",
       "                     coef    std err          t      P>|t|      [0.025      0.975]\n",
       "----------------------------------------------------------------------------------\n",
       "Intercept       -703.2401      4.420   -159.097      0.000    -711.938    -694.542\n",
       "Student[T.Yes]   501.1326      1.840    272.316      0.000     497.511     504.754\n",
       "Income            -9.9745      0.059   -170.261      0.000     -10.090      -9.859\n",
       "I(Income ** 2)     0.0011      0.001      1.657      0.099      -0.000       0.002\n",
       "Age               -1.0007      0.035    -28.305      0.000      -1.070      -0.931\n",
       "Rating            -0.1370      0.059     -2.325      0.021      -0.253      -0.021\n",
       "Income:Rating     -0.0003      0.000     -1.889      0.060      -0.001    1.44e-05\n",
       "Limit              0.3370      0.004     85.120      0.000       0.329       0.345\n",
       "Cards             25.5326      0.496     51.444      0.000      24.556      26.509\n",
       "==============================================================================\n",
       "Omnibus:                        4.113   Durbin-Watson:                   2.038\n",
       "Prob(Omnibus):                  0.128   Jarque-Bera (JB):                4.093\n",
       "Skew:                          -0.281   Prob(JB):                        0.129\n",
       "Kurtosis:                       2.958   Cond. No.                     2.91e+05\n",
       "==============================================================================\n",
       "\n",
       "Notes:\n",
       "[1] Standard Errors assume that the covariance matrix of the errors is correctly specified.\n",
       "[2] The condition number is large, 2.91e+05. This might indicate that there are\n",
       "strong multicollinearity or other numerical problems.\n",
       "\"\"\""
      ]
     },
     "execution_count": 44,
     "metadata": {},
     "output_type": "execute_result"
    }
   ],
   "source": [
    "mod_limit_cards_active = smf.ols('Balance ~ Income +  I(Income**2)+  Age + Student + Income*Rating + Limit + Cards', data = active_balance).fit()\n",
    "mod_limit_cards_active.summary()"
   ]
  },
  {
   "cell_type": "markdown",
   "metadata": {},
   "source": [
    "This is the best model fit on the active dataset so far with a R-squared value of 99%. Adding the Limit term seems to have had a strong impact. This is a relationship which can be further analyzed."
   ]
  },
  {
   "cell_type": "code",
   "execution_count": 45,
   "metadata": {},
   "outputs": [
    {
     "data": {
      "text/plain": [
       "<matplotlib.axes._subplots.AxesSubplot at 0x20fc22c6250>"
      ]
     },
     "execution_count": 45,
     "metadata": {},
     "output_type": "execute_result"
    },
    {
     "data": {
      "image/png": "[encoded data removed]",
      "text/plain": [
       "<Figure size 432x288 with 1 Axes>"
      ]
     },
     "metadata": {
      "needs_background": "light"
     },
     "output_type": "display_data"
    }
   ],
   "source": [
    "sns.regplot(x='Limit',\n",
    "          y='Balance',\n",
    "          data=active_balance,\n",
    "          line_kws={'color':'black'},\n",
    "          lowess=True)"
   ]
  },
  {
   "cell_type": "markdown",
   "metadata": {},
   "source": [
    "Credit Limit appears to be a strong predictor for credit card Balance. This is an expected finding since we assume that a card owner is not allowed to have a Balance that exceeds their Limit. Consequently, this relationship simply articulates that, the higher the credit Limit, the greater the credit card expenses are for a given individual, and hence the insightfulness of this relationship is debatable."
   ]
  },
  {
   "cell_type": "code",
   "execution_count": 46,
   "metadata": {},
   "outputs": [
    {
     "data": {
      "text/html": [
       "<table class=\"simpletable\">\n",
       "<caption>OLS Regression Results</caption>\n",
       "<tr>\n",
       "  <th>Dep. Variable:</th>         <td>Balance</td>     <th>  R-squared:         </th> <td>   0.746</td> \n",
       "</tr>\n",
       "<tr>\n",
       "  <th>Model:</th>                   <td>OLS</td>       <th>  Adj. R-squared:    </th> <td>   0.745</td> \n",
       "</tr>\n",
       "<tr>\n",
       "  <th>Method:</th>             <td>Least Squares</td>  <th>  F-statistic:       </th> <td>   1168.</td> \n",
       "</tr>\n",
       "<tr>\n",
       "  <th>Date:</th>             <td>Sun, 04 Sep 2022</td> <th>  Prob (F-statistic):</th> <td>1.90e-120</td>\n",
       "</tr>\n",
       "<tr>\n",
       "  <th>Time:</th>                 <td>00:14:23</td>     <th>  Log-Likelihood:    </th> <td> -2745.4</td> \n",
       "</tr>\n",
       "<tr>\n",
       "  <th>No. Observations:</th>      <td>   400</td>      <th>  AIC:               </th> <td>   5495.</td> \n",
       "</tr>\n",
       "<tr>\n",
       "  <th>Df Residuals:</th>          <td>   398</td>      <th>  BIC:               </th> <td>   5503.</td> \n",
       "</tr>\n",
       "<tr>\n",
       "  <th>Df Model:</th>              <td>     1</td>      <th>                     </th>     <td> </td>    \n",
       "</tr>\n",
       "<tr>\n",
       "  <th>Covariance Type:</th>      <td>nonrobust</td>    <th>                     </th>     <td> </td>    \n",
       "</tr>\n",
       "</table>\n",
       "<table class=\"simpletable\">\n",
       "<tr>\n",
       "      <td></td>         <th>coef</th>     <th>std err</th>      <th>t</th>      <th>P>|t|</th>  <th>[0.025</th>    <th>0.975]</th>  \n",
       "</tr>\n",
       "<tr>\n",
       "  <th>Intercept</th> <td> -390.8463</td> <td>   29.069</td> <td>  -13.446</td> <td> 0.000</td> <td> -447.993</td> <td> -333.699</td>\n",
       "</tr>\n",
       "<tr>\n",
       "  <th>Rating</th>    <td>    2.5662</td> <td>    0.075</td> <td>   34.176</td> <td> 0.000</td> <td>    2.419</td> <td>    2.714</td>\n",
       "</tr>\n",
       "</table>\n",
       "<table class=\"simpletable\">\n",
       "<tr>\n",
       "  <th>Omnibus:</th>       <td>23.223</td> <th>  Durbin-Watson:     </th> <td>   1.966</td>\n",
       "</tr>\n",
       "<tr>\n",
       "  <th>Prob(Omnibus):</th> <td> 0.000</td> <th>  Jarque-Bera (JB):  </th> <td>  38.802</td>\n",
       "</tr>\n",
       "<tr>\n",
       "  <th>Skew:</th>          <td> 0.390</td> <th>  Prob(JB):          </th> <td>3.75e-09</td>\n",
       "</tr>\n",
       "<tr>\n",
       "  <th>Kurtosis:</th>      <td> 4.311</td> <th>  Cond. No.          </th> <td>    970.</td>\n",
       "</tr>\n",
       "</table><br/><br/>Notes:<br/>[1] Standard Errors assume that the covariance matrix of the errors is correctly specified."
      ],
      "text/plain": [
       "<class 'statsmodels.iolib.summary.Summary'>\n",
       "\"\"\"\n",
       "                            OLS Regression Results                            \n",
       "==============================================================================\n",
       "Dep. Variable:                Balance   R-squared:                       0.746\n",
       "Model:                            OLS   Adj. R-squared:                  0.745\n",
       "Method:                 Least Squares   F-statistic:                     1168.\n",
       "Date:                Sun, 04 Sep 2022   Prob (F-statistic):          1.90e-120\n",
       "Time:                        00:14:23   Log-Likelihood:                -2745.4\n",
       "No. Observations:                 400   AIC:                             5495.\n",
       "Df Residuals:                     398   BIC:                             5503.\n",
       "Df Model:                           1                                         \n",
       "Covariance Type:            nonrobust                                         \n",
       "==============================================================================\n",
       "                 coef    std err          t      P>|t|      [0.025      0.975]\n",
       "------------------------------------------------------------------------------\n",
       "Intercept   -390.8463     29.069    -13.446      0.000    -447.993    -333.699\n",
       "Rating         2.5662      0.075     34.176      0.000       2.419       2.714\n",
       "==============================================================================\n",
       "Omnibus:                       23.223   Durbin-Watson:                   1.966\n",
       "Prob(Omnibus):                  0.000   Jarque-Bera (JB):               38.802\n",
       "Skew:                           0.390   Prob(JB):                     3.75e-09\n",
       "Kurtosis:                       4.311   Cond. No.                         970.\n",
       "==============================================================================\n",
       "\n",
       "Notes:\n",
       "[1] Standard Errors assume that the covariance matrix of the errors is correctly specified.\n",
       "\"\"\""
      ]
     },
     "execution_count": 46,
     "metadata": {},
     "output_type": "execute_result"
    }
   ],
   "source": [
    "model_rating =smf.ols('Balance ~ Rating', data = df).fit()\n",
    "model_rating.summary()"
   ]
  },
  {
   "cell_type": "markdown",
   "metadata": {},
   "source": [
    "Similarly, credit Rating is a highly accurate predictor of Balance. This could suggest that individuals with high Rating are more willing to incur credit debt as they are confident that they will be able to pay off the balance. Nevertheless, Rating is a complex variable, related to other predictors such as Income."
   ]
  },
  {
   "cell_type": "code",
   "execution_count": 47,
   "metadata": {},
   "outputs": [
    {
     "data": {
      "text/html": [
       "<table class=\"simpletable\">\n",
       "<caption>OLS Regression Results</caption>\n",
       "<tr>\n",
       "  <th>Dep. Variable:</th>         <td>Balance</td>     <th>  R-squared:         </th> <td>   0.215</td>\n",
       "</tr>\n",
       "<tr>\n",
       "  <th>Model:</th>                   <td>OLS</td>       <th>  Adj. R-squared:    </th> <td>   0.213</td>\n",
       "</tr>\n",
       "<tr>\n",
       "  <th>Method:</th>             <td>Least Squares</td>  <th>  F-statistic:       </th> <td>   109.0</td>\n",
       "</tr>\n",
       "<tr>\n",
       "  <th>Date:</th>             <td>Sun, 04 Sep 2022</td> <th>  Prob (F-statistic):</th> <td>1.03e-22</td>\n",
       "</tr>\n",
       "<tr>\n",
       "  <th>Time:</th>                 <td>00:14:23</td>     <th>  Log-Likelihood:    </th> <td> -2970.9</td>\n",
       "</tr>\n",
       "<tr>\n",
       "  <th>No. Observations:</th>      <td>   400</td>      <th>  AIC:               </th> <td>   5946.</td>\n",
       "</tr>\n",
       "<tr>\n",
       "  <th>Df Residuals:</th>          <td>   398</td>      <th>  BIC:               </th> <td>   5954.</td>\n",
       "</tr>\n",
       "<tr>\n",
       "  <th>Df Model:</th>              <td>     1</td>      <th>                     </th>     <td> </td>   \n",
       "</tr>\n",
       "<tr>\n",
       "  <th>Covariance Type:</th>      <td>nonrobust</td>    <th>                     </th>     <td> </td>   \n",
       "</tr>\n",
       "</table>\n",
       "<table class=\"simpletable\">\n",
       "<tr>\n",
       "      <td></td>         <th>coef</th>     <th>std err</th>      <th>t</th>      <th>P>|t|</th>  <th>[0.025</th>    <th>0.975]</th>  \n",
       "</tr>\n",
       "<tr>\n",
       "  <th>Intercept</th> <td>  246.5148</td> <td>   33.199</td> <td>    7.425</td> <td> 0.000</td> <td>  181.247</td> <td>  311.783</td>\n",
       "</tr>\n",
       "<tr>\n",
       "  <th>Income</th>    <td>    6.0484</td> <td>    0.579</td> <td>   10.440</td> <td> 0.000</td> <td>    4.909</td> <td>    7.187</td>\n",
       "</tr>\n",
       "</table>\n",
       "<table class=\"simpletable\">\n",
       "<tr>\n",
       "  <th>Omnibus:</th>       <td>42.505</td> <th>  Durbin-Watson:     </th> <td>   1.951</td>\n",
       "</tr>\n",
       "<tr>\n",
       "  <th>Prob(Omnibus):</th> <td> 0.000</td> <th>  Jarque-Bera (JB):  </th> <td>  20.975</td>\n",
       "</tr>\n",
       "<tr>\n",
       "  <th>Skew:</th>          <td> 0.384</td> <th>  Prob(JB):          </th> <td>2.79e-05</td>\n",
       "</tr>\n",
       "<tr>\n",
       "  <th>Kurtosis:</th>      <td> 2.182</td> <th>  Cond. No.          </th> <td>    93.3</td>\n",
       "</tr>\n",
       "</table><br/><br/>Notes:<br/>[1] Standard Errors assume that the covariance matrix of the errors is correctly specified."
      ],
      "text/plain": [
       "<class 'statsmodels.iolib.summary.Summary'>\n",
       "\"\"\"\n",
       "                            OLS Regression Results                            \n",
       "==============================================================================\n",
       "Dep. Variable:                Balance   R-squared:                       0.215\n",
       "Model:                            OLS   Adj. R-squared:                  0.213\n",
       "Method:                 Least Squares   F-statistic:                     109.0\n",
       "Date:                Sun, 04 Sep 2022   Prob (F-statistic):           1.03e-22\n",
       "Time:                        00:14:23   Log-Likelihood:                -2970.9\n",
       "No. Observations:                 400   AIC:                             5946.\n",
       "Df Residuals:                     398   BIC:                             5954.\n",
       "Df Model:                           1                                         \n",
       "Covariance Type:            nonrobust                                         \n",
       "==============================================================================\n",
       "                 coef    std err          t      P>|t|      [0.025      0.975]\n",
       "------------------------------------------------------------------------------\n",
       "Intercept    246.5148     33.199      7.425      0.000     181.247     311.783\n",
       "Income         6.0484      0.579     10.440      0.000       4.909       7.187\n",
       "==============================================================================\n",
       "Omnibus:                       42.505   Durbin-Watson:                   1.951\n",
       "Prob(Omnibus):                  0.000   Jarque-Bera (JB):               20.975\n",
       "Skew:                           0.384   Prob(JB):                     2.79e-05\n",
       "Kurtosis:                       2.182   Cond. No.                         93.3\n",
       "==============================================================================\n",
       "\n",
       "Notes:\n",
       "[1] Standard Errors assume that the covariance matrix of the errors is correctly specified.\n",
       "\"\"\""
      ]
     },
     "execution_count": 47,
     "metadata": {},
     "output_type": "execute_result"
    }
   ],
   "source": [
    "model_income =smf.ols('Balance ~ Income', data = df).fit()\n",
    "model_income.summary()"
   ]
  },
  {
   "cell_type": "markdown",
   "metadata": {},
   "source": [
    "We see only income is not an appropriate indicator of rating."
   ]
  },
  {
   "cell_type": "markdown",
   "metadata": {},
   "source": [
    "For the entire dataset, the best model predicted 96% of the variance. The model fit only on active users predicted 99% of variance. The difference suggests that there are other factors influencing non-active cardholders which are not present in our data, or their spending behaviour is reflected on other lending platforms."
   ]
  },
  {
   "cell_type": "markdown",
   "metadata": {},
   "source": [
    "## Logistic Regression"
   ]
  },
  {
   "cell_type": "markdown",
   "metadata": {},
   "source": [
    "We apply logistic regression to check what all parameters affect whether a credit card is active or not."
   ]
  },
  {
   "cell_type": "code",
   "execution_count": 48,
   "metadata": {},
   "outputs": [
    {
     "data": {
      "text/html": [
       "<table class=\"simpletable\">\n",
       "<caption>Generalized Linear Model Regression Results</caption>\n",
       "<tr>\n",
       "  <th>Dep. Variable:</th>   <td>['Active[No]', 'Active[Yes]']</td> <th>  No. Observations:  </th>  <td>   400</td> \n",
       "</tr>\n",
       "<tr>\n",
       "  <th>Model:</th>                        <td>GLM</td>              <th>  Df Residuals:      </th>  <td>   393</td> \n",
       "</tr>\n",
       "<tr>\n",
       "  <th>Model Family:</th>              <td>Binomial</td>            <th>  Df Model:          </th>  <td>     6</td> \n",
       "</tr>\n",
       "<tr>\n",
       "  <th>Link Function:</th>               <td>Logit</td>             <th>  Scale:             </th> <td>  1.0000</td>\n",
       "</tr>\n",
       "<tr>\n",
       "  <th>Method:</th>                      <td>IRLS</td>              <th>  Log-Likelihood:    </th> <td> -53.379</td>\n",
       "</tr>\n",
       "<tr>\n",
       "  <th>Date:</th>                  <td>Sun, 04 Sep 2022</td>        <th>  Deviance:          </th> <td>  106.76</td>\n",
       "</tr>\n",
       "<tr>\n",
       "  <th>Time:</th>                      <td>00:14:23</td>            <th>  Pearson chi2:      </th>  <td>  464.</td> \n",
       "</tr>\n",
       "<tr>\n",
       "  <th>No. Iterations:</th>                <td>9</td>               <th>  Pseudo R-squ. (CS):</th>  <td>0.5504</td> \n",
       "</tr>\n",
       "<tr>\n",
       "  <th>Covariance Type:</th>           <td>nonrobust</td>           <th>                     </th>     <td> </td>   \n",
       "</tr>\n",
       "</table>\n",
       "<table class=\"simpletable\">\n",
       "<tr>\n",
       "      <td></td>         <th>coef</th>     <th>std err</th>      <th>z</th>      <th>P>|z|</th>  <th>[0.025</th>    <th>0.975]</th>  \n",
       "</tr>\n",
       "<tr>\n",
       "  <th>Intercept</th> <td>    8.3924</td> <td>    2.040</td> <td>    4.114</td> <td> 0.000</td> <td>    4.394</td> <td>   12.390</td>\n",
       "</tr>\n",
       "<tr>\n",
       "  <th>Limit</th>     <td>   -0.0024</td> <td>    0.002</td> <td>   -1.368</td> <td> 0.171</td> <td>   -0.006</td> <td>    0.001</td>\n",
       "</tr>\n",
       "<tr>\n",
       "  <th>Rating</th>    <td>   -0.0210</td> <td>    0.026</td> <td>   -0.792</td> <td> 0.429</td> <td>   -0.073</td> <td>    0.031</td>\n",
       "</tr>\n",
       "<tr>\n",
       "  <th>Income</th>    <td>    0.1114</td> <td>    0.021</td> <td>    5.291</td> <td> 0.000</td> <td>    0.070</td> <td>    0.153</td>\n",
       "</tr>\n",
       "<tr>\n",
       "  <th>Age</th>       <td>   -0.0021</td> <td>    0.015</td> <td>   -0.143</td> <td> 0.886</td> <td>   -0.031</td> <td>    0.027</td>\n",
       "</tr>\n",
       "<tr>\n",
       "  <th>Cards</th>     <td>   -0.1709</td> <td>    0.256</td> <td>   -0.668</td> <td> 0.504</td> <td>   -0.673</td> <td>    0.331</td>\n",
       "</tr>\n",
       "<tr>\n",
       "  <th>Education</th> <td>    0.0444</td> <td>    0.088</td> <td>    0.503</td> <td> 0.615</td> <td>   -0.128</td> <td>    0.217</td>\n",
       "</tr>\n",
       "</table>"
      ],
      "text/plain": [
       "<class 'statsmodels.iolib.summary.Summary'>\n",
       "\"\"\"\n",
       "                       Generalized Linear Model Regression Results                       \n",
       "=========================================================================================\n",
       "Dep. Variable:     ['Active[No]', 'Active[Yes]']   No. Observations:                  400\n",
       "Model:                                       GLM   Df Residuals:                      393\n",
       "Model Family:                           Binomial   Df Model:                            6\n",
       "Link Function:                             Logit   Scale:                          1.0000\n",
       "Method:                                     IRLS   Log-Likelihood:                -53.379\n",
       "Date:                           Sun, 04 Sep 2022   Deviance:                       106.76\n",
       "Time:                                   00:14:23   Pearson chi2:                     464.\n",
       "No. Iterations:                                9   Pseudo R-squ. (CS):             0.5504\n",
       "Covariance Type:                       nonrobust                                         \n",
       "==============================================================================\n",
       "                 coef    std err          z      P>|z|      [0.025      0.975]\n",
       "------------------------------------------------------------------------------\n",
       "Intercept      8.3924      2.040      4.114      0.000       4.394      12.390\n",
       "Limit         -0.0024      0.002     -1.368      0.171      -0.006       0.001\n",
       "Rating        -0.0210      0.026     -0.792      0.429      -0.073       0.031\n",
       "Income         0.1114      0.021      5.291      0.000       0.070       0.153\n",
       "Age           -0.0021      0.015     -0.143      0.886      -0.031       0.027\n",
       "Cards         -0.1709      0.256     -0.668      0.504      -0.673       0.331\n",
       "Education      0.0444      0.088      0.503      0.615      -0.128       0.217\n",
       "==============================================================================\n",
       "\"\"\""
      ]
     },
     "execution_count": 48,
     "metadata": {},
     "output_type": "execute_result"
    }
   ],
   "source": [
    "log_mod = smf.glm('Active ~ Limit + Rating + Income + Age + Cards + Education', data = df,family=sm.families.Binomial()).fit()\n",
    "log_mod.summary()"
   ]
  },
  {
   "cell_type": "markdown",
   "metadata": {},
   "source": [
    "We see that only Income is still kind of a significant predictor of whether a credit card is active or not. This makes sense because normally low-earners would prefer having zero balance credit cards to boost their creditworthiness."
   ]
  },
  {
   "cell_type": "markdown",
   "metadata": {},
   "source": [
    "## Making Predictions"
   ]
  },
  {
   "cell_type": "markdown",
   "metadata": {},
   "source": [
    "astly, the model can be utilized in order to predict the credit card Balance of future customers given their demographic information. For this purpose, a dataset has been generated."
   ]
  },
  {
   "cell_type": "code",
   "execution_count": 49,
   "metadata": {},
   "outputs": [
    {
     "name": "stderr",
     "output_type": "stream",
     "text": [
      "<ipython-input-49-86c3548cf1df>:7: SettingWithCopyWarning: \n",
      "A value is trying to be set on a copy of a slice from a DataFrame\n",
      "\n",
      "See the caveats in the documentation: https://pandas.pydata.org/pandas-docs/stable/user_guide/indexing.html#returning-a-view-versus-a-copy\n",
      "  df_new.Cards[df_new.Cards == 0] = 3\n",
      "<ipython-input-49-86c3548cf1df>:8: SettingWithCopyWarning: \n",
      "A value is trying to be set on a copy of a slice from a DataFrame\n",
      "\n",
      "See the caveats in the documentation: https://pandas.pydata.org/pandas-docs/stable/user_guide/indexing.html#returning-a-view-versus-a-copy\n",
      "  df_new.Income[df_new.Income <= 0] = df_new.Income.mean()\n",
      "<ipython-input-49-86c3548cf1df>:9: SettingWithCopyWarning: \n",
      "A value is trying to be set on a copy of a slice from a DataFrame\n",
      "\n",
      "See the caveats in the documentation: https://pandas.pydata.org/pandas-docs/stable/user_guide/indexing.html#returning-a-view-versus-a-copy\n",
      "  df_new.Rating[df_new.Rating <= 0] = df_new.Rating.mean()\n",
      "<ipython-input-49-86c3548cf1df>:10: SettingWithCopyWarning: \n",
      "A value is trying to be set on a copy of a slice from a DataFrame\n",
      "\n",
      "See the caveats in the documentation: https://pandas.pydata.org/pandas-docs/stable/user_guide/indexing.html#returning-a-view-versus-a-copy\n",
      "  df_new.Limit[df_new.Limit <= 0] = df_new.Limit.mean()\n"
     ]
    },
    {
     "data": {
      "text/html": [
       "<div>\n",
       "<style scoped>\n",
       "    .dataframe tbody tr th:only-of-type {\n",
       "        vertical-align: middle;\n",
       "    }\n",
       "\n",
       "    .dataframe tbody tr th {\n",
       "        vertical-align: top;\n",
       "    }\n",
       "\n",
       "    .dataframe thead th {\n",
       "        text-align: right;\n",
       "    }\n",
       "</style>\n",
       "<table border=\"1\" class=\"dataframe\">\n",
       "  <thead>\n",
       "    <tr style=\"text-align: right;\">\n",
       "      <th></th>\n",
       "      <th>Income</th>\n",
       "      <th>Rating</th>\n",
       "      <th>Limit</th>\n",
       "      <th>Age</th>\n",
       "      <th>Cards</th>\n",
       "      <th>Balance</th>\n",
       "    </tr>\n",
       "  </thead>\n",
       "  <tbody>\n",
       "    <tr>\n",
       "      <th>count</th>\n",
       "      <td>40.000000</td>\n",
       "      <td>40.000000</td>\n",
       "      <td>40.000000</td>\n",
       "      <td>40.000000</td>\n",
       "      <td>40.000000</td>\n",
       "      <td>40.000000</td>\n",
       "    </tr>\n",
       "    <tr>\n",
       "      <th>mean</th>\n",
       "      <td>47.101899</td>\n",
       "      <td>350.053251</td>\n",
       "      <td>4743.315516</td>\n",
       "      <td>55.887076</td>\n",
       "      <td>4.800000</td>\n",
       "      <td>691.586109</td>\n",
       "    </tr>\n",
       "    <tr>\n",
       "      <th>std</th>\n",
       "      <td>19.032855</td>\n",
       "      <td>45.586849</td>\n",
       "      <td>228.008891</td>\n",
       "      <td>16.953257</td>\n",
       "      <td>2.554032</td>\n",
       "      <td>366.507082</td>\n",
       "    </tr>\n",
       "    <tr>\n",
       "      <th>min</th>\n",
       "      <td>5.346743</td>\n",
       "      <td>243.452026</td>\n",
       "      <td>3994.187593</td>\n",
       "      <td>16.817542</td>\n",
       "      <td>1.000000</td>\n",
       "      <td>46.304946</td>\n",
       "    </tr>\n",
       "    <tr>\n",
       "      <th>25%</th>\n",
       "      <td>34.053999</td>\n",
       "      <td>314.111980</td>\n",
       "      <td>4626.975330</td>\n",
       "      <td>44.325336</td>\n",
       "      <td>3.000000</td>\n",
       "      <td>422.917134</td>\n",
       "    </tr>\n",
       "    <tr>\n",
       "      <th>50%</th>\n",
       "      <td>43.900921</td>\n",
       "      <td>354.016023</td>\n",
       "      <td>4734.275773</td>\n",
       "      <td>52.695425</td>\n",
       "      <td>4.500000</td>\n",
       "      <td>616.605737</td>\n",
       "    </tr>\n",
       "    <tr>\n",
       "      <th>75%</th>\n",
       "      <td>59.853319</td>\n",
       "      <td>385.804226</td>\n",
       "      <td>4860.257692</td>\n",
       "      <td>65.874806</td>\n",
       "      <td>7.000000</td>\n",
       "      <td>1016.532390</td>\n",
       "    </tr>\n",
       "    <tr>\n",
       "      <th>max</th>\n",
       "      <td>85.681620</td>\n",
       "      <td>432.151205</td>\n",
       "      <td>5170.035581</td>\n",
       "      <td>94.485746</td>\n",
       "      <td>9.000000</td>\n",
       "      <td>1454.413075</td>\n",
       "    </tr>\n",
       "  </tbody>\n",
       "</table>\n",
       "</div>"
      ],
      "text/plain": [
       "          Income      Rating        Limit        Age      Cards      Balance\n",
       "count  40.000000   40.000000    40.000000  40.000000  40.000000    40.000000\n",
       "mean   47.101899  350.053251  4743.315516  55.887076   4.800000   691.586109\n",
       "std    19.032855   45.586849   228.008891  16.953257   2.554032   366.507082\n",
       "min     5.346743  243.452026  3994.187593  16.817542   1.000000    46.304946\n",
       "25%    34.053999  314.111980  4626.975330  44.325336   3.000000   422.917134\n",
       "50%    43.900921  354.016023  4734.275773  52.695425   4.500000   616.605737\n",
       "75%    59.853319  385.804226  4860.257692  65.874806   7.000000  1016.532390\n",
       "max    85.681620  432.151205  5170.035581  94.485746   9.000000  1454.413075"
      ]
     },
     "execution_count": 49,
     "metadata": {},
     "output_type": "execute_result"
    }
   ],
   "source": [
    "df_new=pd.DataFrame({'Income':np.random.normal(45, 20, 40),\n",
    "                    'Rating':np.random.normal(355, 55, 40),\n",
    "                    'Limit':np.random.normal(4735, 200, 40),\n",
    "                    'Age':np.random.normal(56, 17, 40),\n",
    "                    'Cards':list(range(0,10))*4,\n",
    "                    'Student':['Yes']*20+['No']*20}) # randomn data generated\n",
    "df_new.Cards[df_new.Cards == 0] = 3\n",
    "df_new.Income[df_new.Income <= 0] = df_new.Income.mean()\n",
    "df_new.Rating[df_new.Rating <= 0] = df_new.Rating.mean()\n",
    "df_new.Limit[df_new.Limit <= 0] = df_new.Limit.mean()\n",
    "df_new['Balance']= mod_limit_cards_active.predict(df_new)\n",
    "df_new.describe()"
   ]
  },
  {
   "cell_type": "markdown",
   "metadata": {},
   "source": [
    "Checking the R-squared value for the entire dataset for the model with highest variance. (99%)"
   ]
  },
  {
   "cell_type": "markdown",
   "metadata": {},
   "source": [
    "Polynomial Relationship between limit and rating."
   ]
  },
  {
   "cell_type": "code",
   "execution_count": 50,
   "metadata": {},
   "outputs": [
    {
     "data": {
      "text/html": [
       "<table class=\"simpletable\">\n",
       "<caption>OLS Regression Results</caption>\n",
       "<tr>\n",
       "  <th>Dep. Variable:</th>         <td>Balance</td>     <th>  R-squared:         </th> <td>   0.962</td> \n",
       "</tr>\n",
       "<tr>\n",
       "  <th>Model:</th>                   <td>OLS</td>       <th>  Adj. R-squared:    </th> <td>   0.961</td> \n",
       "</tr>\n",
       "<tr>\n",
       "  <th>Method:</th>             <td>Least Squares</td>  <th>  F-statistic:       </th> <td>   1221.</td> \n",
       "</tr>\n",
       "<tr>\n",
       "  <th>Date:</th>             <td>Sun, 04 Sep 2022</td> <th>  Prob (F-statistic):</th> <td>3.04e-271</td>\n",
       "</tr>\n",
       "<tr>\n",
       "  <th>Time:</th>                 <td>00:14:23</td>     <th>  Log-Likelihood:    </th> <td> -2367.9</td> \n",
       "</tr>\n",
       "<tr>\n",
       "  <th>No. Observations:</th>      <td>   400</td>      <th>  AIC:               </th> <td>   4754.</td> \n",
       "</tr>\n",
       "<tr>\n",
       "  <th>Df Residuals:</th>          <td>   391</td>      <th>  BIC:               </th> <td>   4790.</td> \n",
       "</tr>\n",
       "<tr>\n",
       "  <th>Df Model:</th>              <td>     8</td>      <th>                     </th>     <td> </td>    \n",
       "</tr>\n",
       "<tr>\n",
       "  <th>Covariance Type:</th>      <td>nonrobust</td>    <th>                     </th>     <td> </td>    \n",
       "</tr>\n",
       "</table>\n",
       "<table class=\"simpletable\">\n",
       "<tr>\n",
       "         <td></td>           <th>coef</th>     <th>std err</th>      <th>t</th>      <th>P>|t|</th>  <th>[0.025</th>    <th>0.975]</th>  \n",
       "</tr>\n",
       "<tr>\n",
       "  <th>Intercept</th>      <td> -368.0046</td> <td>   28.204</td> <td>  -13.048</td> <td> 0.000</td> <td> -423.455</td> <td> -312.554</td>\n",
       "</tr>\n",
       "<tr>\n",
       "  <th>Student[T.Yes]</th> <td>  433.8736</td> <td>   15.294</td> <td>   28.368</td> <td> 0.000</td> <td>  403.804</td> <td>  463.943</td>\n",
       "</tr>\n",
       "<tr>\n",
       "  <th>Income</th>         <td>   -9.3145</td> <td>    0.464</td> <td>  -20.074</td> <td> 0.000</td> <td>  -10.227</td> <td>   -8.402</td>\n",
       "</tr>\n",
       "<tr>\n",
       "  <th>I(Income ** 2)</th> <td>   -0.0313</td> <td>    0.006</td> <td>   -5.633</td> <td> 0.000</td> <td>   -0.042</td> <td>   -0.020</td>\n",
       "</tr>\n",
       "<tr>\n",
       "  <th>Age</th>            <td>   -0.6784</td> <td>    0.270</td> <td>   -2.514</td> <td> 0.012</td> <td>   -1.209</td> <td>   -0.148</td>\n",
       "</tr>\n",
       "<tr>\n",
       "  <th>Rating</th>         <td>    0.5141</td> <td>    0.454</td> <td>    1.133</td> <td> 0.258</td> <td>   -0.378</td> <td>    1.406</td>\n",
       "</tr>\n",
       "<tr>\n",
       "  <th>Income:Rating</th>  <td>    0.0109</td> <td>    0.001</td> <td>    7.903</td> <td> 0.000</td> <td>    0.008</td> <td>    0.014</td>\n",
       "</tr>\n",
       "<tr>\n",
       "  <th>Limit</th>          <td>    0.1998</td> <td>    0.030</td> <td>    6.650</td> <td> 0.000</td> <td>    0.141</td> <td>    0.259</td>\n",
       "</tr>\n",
       "<tr>\n",
       "  <th>Cards</th>          <td>   18.5345</td> <td>    3.991</td> <td>    4.644</td> <td> 0.000</td> <td>   10.688</td> <td>   26.381</td>\n",
       "</tr>\n",
       "</table>\n",
       "<table class=\"simpletable\">\n",
       "<tr>\n",
       "  <th>Omnibus:</th>       <td>11.908</td> <th>  Durbin-Watson:     </th> <td>   1.961</td>\n",
       "</tr>\n",
       "<tr>\n",
       "  <th>Prob(Omnibus):</th> <td> 0.003</td> <th>  Jarque-Bera (JB):  </th> <td>  12.521</td>\n",
       "</tr>\n",
       "<tr>\n",
       "  <th>Skew:</th>          <td> 0.432</td> <th>  Prob(JB):          </th> <td> 0.00191</td>\n",
       "</tr>\n",
       "<tr>\n",
       "  <th>Kurtosis:</th>      <td> 2.932</td> <th>  Cond. No.          </th> <td>2.14e+05</td>\n",
       "</tr>\n",
       "</table><br/><br/>Notes:<br/>[1] Standard Errors assume that the covariance matrix of the errors is correctly specified.<br/>[2] The condition number is large, 2.14e+05. This might indicate that there are<br/>strong multicollinearity or other numerical problems."
      ],
      "text/plain": [
       "<class 'statsmodels.iolib.summary.Summary'>\n",
       "\"\"\"\n",
       "                            OLS Regression Results                            \n",
       "==============================================================================\n",
       "Dep. Variable:                Balance   R-squared:                       0.962\n",
       "Model:                            OLS   Adj. R-squared:                  0.961\n",
       "Method:                 Least Squares   F-statistic:                     1221.\n",
       "Date:                Sun, 04 Sep 2022   Prob (F-statistic):          3.04e-271\n",
       "Time:                        00:14:23   Log-Likelihood:                -2367.9\n",
       "No. Observations:                 400   AIC:                             4754.\n",
       "Df Residuals:                     391   BIC:                             4790.\n",
       "Df Model:                           8                                         \n",
       "Covariance Type:            nonrobust                                         \n",
       "==================================================================================\n",
       "                     coef    std err          t      P>|t|      [0.025      0.975]\n",
       "----------------------------------------------------------------------------------\n",
       "Intercept       -368.0046     28.204    -13.048      0.000    -423.455    -312.554\n",
       "Student[T.Yes]   433.8736     15.294     28.368      0.000     403.804     463.943\n",
       "Income            -9.3145      0.464    -20.074      0.000     -10.227      -8.402\n",
       "I(Income ** 2)    -0.0313      0.006     -5.633      0.000      -0.042      -0.020\n",
       "Age               -0.6784      0.270     -2.514      0.012      -1.209      -0.148\n",
       "Rating             0.5141      0.454      1.133      0.258      -0.378       1.406\n",
       "Income:Rating      0.0109      0.001      7.903      0.000       0.008       0.014\n",
       "Limit              0.1998      0.030      6.650      0.000       0.141       0.259\n",
       "Cards             18.5345      3.991      4.644      0.000      10.688      26.381\n",
       "==============================================================================\n",
       "Omnibus:                       11.908   Durbin-Watson:                   1.961\n",
       "Prob(Omnibus):                  0.003   Jarque-Bera (JB):               12.521\n",
       "Skew:                           0.432   Prob(JB):                      0.00191\n",
       "Kurtosis:                       2.932   Cond. No.                     2.14e+05\n",
       "==============================================================================\n",
       "\n",
       "Notes:\n",
       "[1] Standard Errors assume that the covariance matrix of the errors is correctly specified.\n",
       "[2] The condition number is large, 2.14e+05. This might indicate that there are\n",
       "strong multicollinearity or other numerical problems.\n",
       "\"\"\""
      ]
     },
     "execution_count": 50,
     "metadata": {},
     "output_type": "execute_result"
    }
   ],
   "source": [
    "mod_limit_cards = smf.ols('Balance ~ Income + I(Income**2) + Age + Student + Income*Rating + Limit + Cards', data = df).fit()\n",
    "mod_limit_cards.summary()"
   ]
  },
  {
   "cell_type": "code",
   "execution_count": 51,
   "metadata": {},
   "outputs": [],
   "source": [
    "active_balance.to_csv('active.csv',index=False)"
   ]
  },
  {
   "cell_type": "code",
   "execution_count": null,
   "metadata": {},
   "outputs": [],
   "source": []
  }
 ],
 "metadata": {
  "kernelspec": {
   "display_name": "Python 3",
   "language": "python",
   "name": "python3"
  },
  "language_info": {
   "codemirror_mode": {
    "name": "ipython",
    "version": 3
   },
   "file_extension": ".py",
   "mimetype": "text/x-python",
   "name": "python",
   "nbconvert_exporter": "python",
   "pygments_lexer": "ipython3",
   "version": "3.8.3"
  }
 },
 "nbformat": 4,
 "nbformat_minor": 4
}
